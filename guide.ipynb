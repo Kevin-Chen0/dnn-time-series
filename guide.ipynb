{
 "cells": [
  {
   "cell_type": "markdown",
   "metadata": {},
   "source": [
    "### **STEP 1)  Extract Data from Source**"
   ]
  },
  {
   "cell_type": "markdown",
   "metadata": {},
   "source": [
    "Toggling between two different energy datasets:\n",
    "\n",
    "**energy_dataset.csv**\n",
    "\n",
    "Contains 4 years of hourly electrical consumption, generation, pricing, and weather data for Spain. Source: https://www.kaggle.com/nicholasjhana/energy-consumption-generation-prices-and-weather\n",
    "\n",
    "**PJME_hourly.csv**\n",
    "\n",
    "Hourly energy consumption data from PJM Interconnection LLC (PJM), a regional transmission organization (RTO) in the US. Source: https://www.kaggle.com/robikscube/hourly-energy-consumption"
   ]
  },
  {
   "cell_type": "code",
   "execution_count": 1,
   "metadata": {},
   "outputs": [
    {
     "name": "stdout",
     "output_type": "stream",
     "text": [
      "Imported Deep_Timeseries version: 0.3.2.3. Call by using:\n",
      "        auto_ts.Auto_Timeseries(trainfile, ts_column,\n",
      "                            sep=',', target=None, score_type='rmse', forecast_period=2,\n",
      "                            time_interval='Month', non_seasonal_pdq=None, seasonality=False,\n",
      "                            seasonal_period=12, seasonal_PDQ=None,\n",
      "                            verbose=0)\n",
      "    To get detailed charts of actuals and forecasts, set verbose = 1\n"
     ]
    }
   ],
   "source": [
    "import pandas as pd\n",
    "import numpy as np\n",
    "import dnntime as DT"
   ]
  },
  {
   "cell_type": "code",
   "execution_count": 2,
   "metadata": {},
   "outputs": [],
   "source": [
    "datapath = 'example_datasets/'\n",
    "filename = 'energy_dataset.csv'\n",
    "\n",
    "ts_column = 'time'\n",
    "sep = ','\n",
    "target = 'total load actual'"
   ]
  },
  {
   "cell_type": "code",
   "execution_count": 3,
   "metadata": {},
   "outputs": [],
   "source": [
    "# datapath = 'example_datasets/'\n",
    "# filename = 'PJME_hourly.csv'\n",
    "\n",
    "# ts_column = 'Datetime'\n",
    "# sep = ','\n",
    "# target = 'PJME_MW'"
   ]
  },
  {
   "cell_type": "code",
   "execution_count": 4,
   "metadata": {},
   "outputs": [],
   "source": [
    "from dnntime.utils.etl import load_ts_data"
   ]
  },
  {
   "cell_type": "code",
   "execution_count": 5,
   "metadata": {},
   "outputs": [
    {
     "name": "stdout",
     "output_type": "stream",
     "text": [
      "    - Now loading data from filepath 'example_datasets/energy_dataset.csv' ...\n",
      "    - File loaded successfully. Shape of dataset = (35064, 28)\n"
     ]
    }
   ],
   "source": [
    "df_energy = load_ts_data(datapath+filename, ts_column)"
   ]
  },
  {
   "cell_type": "markdown",
   "metadata": {},
   "source": [
    "### **STEP 2) Preprocessing I (Cleaning)**"
   ]
  },
  {
   "cell_type": "markdown",
   "metadata": {},
   "source": [
    "The *first* round of data preprocessing and ETL does the following:\n",
    "\n",
    "*   extract the Spain total electricity demand univarate time-series from this larger data frame\n",
    "*   confirm its DateTime index to hourly frequency and forwardfill any missing data if needed\n"
   ]
  },
  {
   "cell_type": "code",
   "execution_count": 6,
   "metadata": {},
   "outputs": [
    {
     "data": {
      "text/plain": [
       "(35064, 28)"
      ]
     },
     "execution_count": 6,
     "metadata": {},
     "output_type": "execute_result"
    }
   ],
   "source": [
    "df_energy.shape"
   ]
  },
  {
   "cell_type": "code",
   "execution_count": 7,
   "metadata": {},
   "outputs": [
    {
     "data": {
      "text/plain": [
       "generation biomass                             float64\n",
       "generation fossil brown coal/lignite           float64\n",
       "generation fossil coal-derived gas             float64\n",
       "generation fossil gas                          float64\n",
       "generation fossil hard coal                    float64\n",
       "generation fossil oil                          float64\n",
       "generation fossil oil shale                    float64\n",
       "generation fossil peat                         float64\n",
       "generation geothermal                          float64\n",
       "generation hydro pumped storage aggregated     float64\n",
       "generation hydro pumped storage consumption    float64\n",
       "generation hydro run-of-river and poundage     float64\n",
       "generation hydro water reservoir               float64\n",
       "generation marine                              float64\n",
       "generation nuclear                             float64\n",
       "generation other                               float64\n",
       "generation other renewable                     float64\n",
       "generation solar                               float64\n",
       "generation waste                               float64\n",
       "generation wind offshore                       float64\n",
       "generation wind onshore                        float64\n",
       "forecast solar day ahead                       float64\n",
       "forecast wind offshore eday ahead              float64\n",
       "forecast wind onshore day ahead                float64\n",
       "total load forecast                            float64\n",
       "total load actual                              float64\n",
       "price day ahead                                float64\n",
       "price actual                                   float64\n",
       "dtype: object"
      ]
     },
     "execution_count": 7,
     "metadata": {},
     "output_type": "execute_result"
    }
   ],
   "source": [
    "df_energy.dtypes"
   ]
  },
  {
   "cell_type": "code",
   "execution_count": 8,
   "metadata": {},
   "outputs": [
    {
     "data": {
      "text/html": [
       "<div>\n",
       "<style scoped>\n",
       "    .dataframe tbody tr th:only-of-type {\n",
       "        vertical-align: middle;\n",
       "    }\n",
       "\n",
       "    .dataframe tbody tr th {\n",
       "        vertical-align: top;\n",
       "    }\n",
       "\n",
       "    .dataframe thead th {\n",
       "        text-align: right;\n",
       "    }\n",
       "</style>\n",
       "<table border=\"1\" class=\"dataframe\">\n",
       "  <thead>\n",
       "    <tr style=\"text-align: right;\">\n",
       "      <th></th>\n",
       "      <th>generation biomass</th>\n",
       "      <th>generation fossil brown coal/lignite</th>\n",
       "      <th>generation fossil coal-derived gas</th>\n",
       "      <th>generation fossil gas</th>\n",
       "      <th>generation fossil hard coal</th>\n",
       "      <th>generation fossil oil</th>\n",
       "      <th>generation fossil oil shale</th>\n",
       "      <th>generation fossil peat</th>\n",
       "      <th>generation geothermal</th>\n",
       "      <th>generation hydro pumped storage aggregated</th>\n",
       "      <th>...</th>\n",
       "      <th>generation waste</th>\n",
       "      <th>generation wind offshore</th>\n",
       "      <th>generation wind onshore</th>\n",
       "      <th>forecast solar day ahead</th>\n",
       "      <th>forecast wind offshore eday ahead</th>\n",
       "      <th>forecast wind onshore day ahead</th>\n",
       "      <th>total load forecast</th>\n",
       "      <th>total load actual</th>\n",
       "      <th>price day ahead</th>\n",
       "      <th>price actual</th>\n",
       "    </tr>\n",
       "    <tr>\n",
       "      <th>time</th>\n",
       "      <th></th>\n",
       "      <th></th>\n",
       "      <th></th>\n",
       "      <th></th>\n",
       "      <th></th>\n",
       "      <th></th>\n",
       "      <th></th>\n",
       "      <th></th>\n",
       "      <th></th>\n",
       "      <th></th>\n",
       "      <th></th>\n",
       "      <th></th>\n",
       "      <th></th>\n",
       "      <th></th>\n",
       "      <th></th>\n",
       "      <th></th>\n",
       "      <th></th>\n",
       "      <th></th>\n",
       "      <th></th>\n",
       "      <th></th>\n",
       "      <th></th>\n",
       "    </tr>\n",
       "  </thead>\n",
       "  <tbody>\n",
       "    <tr>\n",
       "      <th>2015-01-01 00:00:00+01:00</th>\n",
       "      <td>447.0</td>\n",
       "      <td>329.0</td>\n",
       "      <td>0.0</td>\n",
       "      <td>4844.0</td>\n",
       "      <td>4821.0</td>\n",
       "      <td>162.0</td>\n",
       "      <td>0.0</td>\n",
       "      <td>0.0</td>\n",
       "      <td>0.0</td>\n",
       "      <td>NaN</td>\n",
       "      <td>...</td>\n",
       "      <td>196.0</td>\n",
       "      <td>0.0</td>\n",
       "      <td>6378.0</td>\n",
       "      <td>17.0</td>\n",
       "      <td>NaN</td>\n",
       "      <td>6436.0</td>\n",
       "      <td>26118.0</td>\n",
       "      <td>25385.0</td>\n",
       "      <td>50.10</td>\n",
       "      <td>65.41</td>\n",
       "    </tr>\n",
       "    <tr>\n",
       "      <th>2015-01-01 01:00:00+01:00</th>\n",
       "      <td>449.0</td>\n",
       "      <td>328.0</td>\n",
       "      <td>0.0</td>\n",
       "      <td>5196.0</td>\n",
       "      <td>4755.0</td>\n",
       "      <td>158.0</td>\n",
       "      <td>0.0</td>\n",
       "      <td>0.0</td>\n",
       "      <td>0.0</td>\n",
       "      <td>NaN</td>\n",
       "      <td>...</td>\n",
       "      <td>195.0</td>\n",
       "      <td>0.0</td>\n",
       "      <td>5890.0</td>\n",
       "      <td>16.0</td>\n",
       "      <td>NaN</td>\n",
       "      <td>5856.0</td>\n",
       "      <td>24934.0</td>\n",
       "      <td>24382.0</td>\n",
       "      <td>48.10</td>\n",
       "      <td>64.92</td>\n",
       "    </tr>\n",
       "    <tr>\n",
       "      <th>2015-01-01 02:00:00+01:00</th>\n",
       "      <td>448.0</td>\n",
       "      <td>323.0</td>\n",
       "      <td>0.0</td>\n",
       "      <td>4857.0</td>\n",
       "      <td>4581.0</td>\n",
       "      <td>157.0</td>\n",
       "      <td>0.0</td>\n",
       "      <td>0.0</td>\n",
       "      <td>0.0</td>\n",
       "      <td>NaN</td>\n",
       "      <td>...</td>\n",
       "      <td>196.0</td>\n",
       "      <td>0.0</td>\n",
       "      <td>5461.0</td>\n",
       "      <td>8.0</td>\n",
       "      <td>NaN</td>\n",
       "      <td>5454.0</td>\n",
       "      <td>23515.0</td>\n",
       "      <td>22734.0</td>\n",
       "      <td>47.33</td>\n",
       "      <td>64.48</td>\n",
       "    </tr>\n",
       "    <tr>\n",
       "      <th>2015-01-01 03:00:00+01:00</th>\n",
       "      <td>438.0</td>\n",
       "      <td>254.0</td>\n",
       "      <td>0.0</td>\n",
       "      <td>4314.0</td>\n",
       "      <td>4131.0</td>\n",
       "      <td>160.0</td>\n",
       "      <td>0.0</td>\n",
       "      <td>0.0</td>\n",
       "      <td>0.0</td>\n",
       "      <td>NaN</td>\n",
       "      <td>...</td>\n",
       "      <td>191.0</td>\n",
       "      <td>0.0</td>\n",
       "      <td>5238.0</td>\n",
       "      <td>2.0</td>\n",
       "      <td>NaN</td>\n",
       "      <td>5151.0</td>\n",
       "      <td>22642.0</td>\n",
       "      <td>21286.0</td>\n",
       "      <td>42.27</td>\n",
       "      <td>59.32</td>\n",
       "    </tr>\n",
       "    <tr>\n",
       "      <th>2015-01-01 04:00:00+01:00</th>\n",
       "      <td>428.0</td>\n",
       "      <td>187.0</td>\n",
       "      <td>0.0</td>\n",
       "      <td>4130.0</td>\n",
       "      <td>3840.0</td>\n",
       "      <td>156.0</td>\n",
       "      <td>0.0</td>\n",
       "      <td>0.0</td>\n",
       "      <td>0.0</td>\n",
       "      <td>NaN</td>\n",
       "      <td>...</td>\n",
       "      <td>189.0</td>\n",
       "      <td>0.0</td>\n",
       "      <td>4935.0</td>\n",
       "      <td>9.0</td>\n",
       "      <td>NaN</td>\n",
       "      <td>4861.0</td>\n",
       "      <td>21785.0</td>\n",
       "      <td>20264.0</td>\n",
       "      <td>38.41</td>\n",
       "      <td>56.04</td>\n",
       "    </tr>\n",
       "  </tbody>\n",
       "</table>\n",
       "<p>5 rows × 28 columns</p>\n",
       "</div>"
      ],
      "text/plain": [
       "                           generation biomass  \\\n",
       "time                                            \n",
       "2015-01-01 00:00:00+01:00               447.0   \n",
       "2015-01-01 01:00:00+01:00               449.0   \n",
       "2015-01-01 02:00:00+01:00               448.0   \n",
       "2015-01-01 03:00:00+01:00               438.0   \n",
       "2015-01-01 04:00:00+01:00               428.0   \n",
       "\n",
       "                           generation fossil brown coal/lignite  \\\n",
       "time                                                              \n",
       "2015-01-01 00:00:00+01:00                                 329.0   \n",
       "2015-01-01 01:00:00+01:00                                 328.0   \n",
       "2015-01-01 02:00:00+01:00                                 323.0   \n",
       "2015-01-01 03:00:00+01:00                                 254.0   \n",
       "2015-01-01 04:00:00+01:00                                 187.0   \n",
       "\n",
       "                           generation fossil coal-derived gas  \\\n",
       "time                                                            \n",
       "2015-01-01 00:00:00+01:00                                 0.0   \n",
       "2015-01-01 01:00:00+01:00                                 0.0   \n",
       "2015-01-01 02:00:00+01:00                                 0.0   \n",
       "2015-01-01 03:00:00+01:00                                 0.0   \n",
       "2015-01-01 04:00:00+01:00                                 0.0   \n",
       "\n",
       "                           generation fossil gas  generation fossil hard coal  \\\n",
       "time                                                                            \n",
       "2015-01-01 00:00:00+01:00                 4844.0                       4821.0   \n",
       "2015-01-01 01:00:00+01:00                 5196.0                       4755.0   \n",
       "2015-01-01 02:00:00+01:00                 4857.0                       4581.0   \n",
       "2015-01-01 03:00:00+01:00                 4314.0                       4131.0   \n",
       "2015-01-01 04:00:00+01:00                 4130.0                       3840.0   \n",
       "\n",
       "                           generation fossil oil  generation fossil oil shale  \\\n",
       "time                                                                            \n",
       "2015-01-01 00:00:00+01:00                  162.0                          0.0   \n",
       "2015-01-01 01:00:00+01:00                  158.0                          0.0   \n",
       "2015-01-01 02:00:00+01:00                  157.0                          0.0   \n",
       "2015-01-01 03:00:00+01:00                  160.0                          0.0   \n",
       "2015-01-01 04:00:00+01:00                  156.0                          0.0   \n",
       "\n",
       "                           generation fossil peat  generation geothermal  \\\n",
       "time                                                                       \n",
       "2015-01-01 00:00:00+01:00                     0.0                    0.0   \n",
       "2015-01-01 01:00:00+01:00                     0.0                    0.0   \n",
       "2015-01-01 02:00:00+01:00                     0.0                    0.0   \n",
       "2015-01-01 03:00:00+01:00                     0.0                    0.0   \n",
       "2015-01-01 04:00:00+01:00                     0.0                    0.0   \n",
       "\n",
       "                           generation hydro pumped storage aggregated  ...  \\\n",
       "time                                                                   ...   \n",
       "2015-01-01 00:00:00+01:00                                         NaN  ...   \n",
       "2015-01-01 01:00:00+01:00                                         NaN  ...   \n",
       "2015-01-01 02:00:00+01:00                                         NaN  ...   \n",
       "2015-01-01 03:00:00+01:00                                         NaN  ...   \n",
       "2015-01-01 04:00:00+01:00                                         NaN  ...   \n",
       "\n",
       "                           generation waste  generation wind offshore  \\\n",
       "time                                                                    \n",
       "2015-01-01 00:00:00+01:00             196.0                       0.0   \n",
       "2015-01-01 01:00:00+01:00             195.0                       0.0   \n",
       "2015-01-01 02:00:00+01:00             196.0                       0.0   \n",
       "2015-01-01 03:00:00+01:00             191.0                       0.0   \n",
       "2015-01-01 04:00:00+01:00             189.0                       0.0   \n",
       "\n",
       "                           generation wind onshore  forecast solar day ahead  \\\n",
       "time                                                                           \n",
       "2015-01-01 00:00:00+01:00                   6378.0                      17.0   \n",
       "2015-01-01 01:00:00+01:00                   5890.0                      16.0   \n",
       "2015-01-01 02:00:00+01:00                   5461.0                       8.0   \n",
       "2015-01-01 03:00:00+01:00                   5238.0                       2.0   \n",
       "2015-01-01 04:00:00+01:00                   4935.0                       9.0   \n",
       "\n",
       "                           forecast wind offshore eday ahead  \\\n",
       "time                                                           \n",
       "2015-01-01 00:00:00+01:00                                NaN   \n",
       "2015-01-01 01:00:00+01:00                                NaN   \n",
       "2015-01-01 02:00:00+01:00                                NaN   \n",
       "2015-01-01 03:00:00+01:00                                NaN   \n",
       "2015-01-01 04:00:00+01:00                                NaN   \n",
       "\n",
       "                           forecast wind onshore day ahead  \\\n",
       "time                                                         \n",
       "2015-01-01 00:00:00+01:00                           6436.0   \n",
       "2015-01-01 01:00:00+01:00                           5856.0   \n",
       "2015-01-01 02:00:00+01:00                           5454.0   \n",
       "2015-01-01 03:00:00+01:00                           5151.0   \n",
       "2015-01-01 04:00:00+01:00                           4861.0   \n",
       "\n",
       "                           total load forecast  total load actual  \\\n",
       "time                                                                \n",
       "2015-01-01 00:00:00+01:00              26118.0            25385.0   \n",
       "2015-01-01 01:00:00+01:00              24934.0            24382.0   \n",
       "2015-01-01 02:00:00+01:00              23515.0            22734.0   \n",
       "2015-01-01 03:00:00+01:00              22642.0            21286.0   \n",
       "2015-01-01 04:00:00+01:00              21785.0            20264.0   \n",
       "\n",
       "                           price day ahead  price actual  \n",
       "time                                                      \n",
       "2015-01-01 00:00:00+01:00            50.10         65.41  \n",
       "2015-01-01 01:00:00+01:00            48.10         64.92  \n",
       "2015-01-01 02:00:00+01:00            47.33         64.48  \n",
       "2015-01-01 03:00:00+01:00            42.27         59.32  \n",
       "2015-01-01 04:00:00+01:00            38.41         56.04  \n",
       "\n",
       "[5 rows x 28 columns]"
      ]
     },
     "execution_count": 8,
     "metadata": {},
     "output_type": "execute_result"
    }
   ],
   "source": [
    "df_energy.head(5)"
   ]
  },
  {
   "cell_type": "code",
   "execution_count": 9,
   "metadata": {},
   "outputs": [
    {
     "data": {
      "text/html": [
       "<div>\n",
       "<style scoped>\n",
       "    .dataframe tbody tr th:only-of-type {\n",
       "        vertical-align: middle;\n",
       "    }\n",
       "\n",
       "    .dataframe tbody tr th {\n",
       "        vertical-align: top;\n",
       "    }\n",
       "\n",
       "    .dataframe thead th {\n",
       "        text-align: right;\n",
       "    }\n",
       "</style>\n",
       "<table border=\"1\" class=\"dataframe\">\n",
       "  <thead>\n",
       "    <tr style=\"text-align: right;\">\n",
       "      <th></th>\n",
       "      <th>generation biomass</th>\n",
       "      <th>generation fossil brown coal/lignite</th>\n",
       "      <th>generation fossil coal-derived gas</th>\n",
       "      <th>generation fossil gas</th>\n",
       "      <th>generation fossil hard coal</th>\n",
       "      <th>generation fossil oil</th>\n",
       "      <th>generation fossil oil shale</th>\n",
       "      <th>generation fossil peat</th>\n",
       "      <th>generation geothermal</th>\n",
       "      <th>generation hydro pumped storage aggregated</th>\n",
       "      <th>...</th>\n",
       "      <th>generation waste</th>\n",
       "      <th>generation wind offshore</th>\n",
       "      <th>generation wind onshore</th>\n",
       "      <th>forecast solar day ahead</th>\n",
       "      <th>forecast wind offshore eday ahead</th>\n",
       "      <th>forecast wind onshore day ahead</th>\n",
       "      <th>total load forecast</th>\n",
       "      <th>total load actual</th>\n",
       "      <th>price day ahead</th>\n",
       "      <th>price actual</th>\n",
       "    </tr>\n",
       "    <tr>\n",
       "      <th>time</th>\n",
       "      <th></th>\n",
       "      <th></th>\n",
       "      <th></th>\n",
       "      <th></th>\n",
       "      <th></th>\n",
       "      <th></th>\n",
       "      <th></th>\n",
       "      <th></th>\n",
       "      <th></th>\n",
       "      <th></th>\n",
       "      <th></th>\n",
       "      <th></th>\n",
       "      <th></th>\n",
       "      <th></th>\n",
       "      <th></th>\n",
       "      <th></th>\n",
       "      <th></th>\n",
       "      <th></th>\n",
       "      <th></th>\n",
       "      <th></th>\n",
       "      <th></th>\n",
       "    </tr>\n",
       "  </thead>\n",
       "  <tbody>\n",
       "    <tr>\n",
       "      <th>2018-12-31 19:00:00+01:00</th>\n",
       "      <td>297.0</td>\n",
       "      <td>0.0</td>\n",
       "      <td>0.0</td>\n",
       "      <td>7634.0</td>\n",
       "      <td>2628.0</td>\n",
       "      <td>178.0</td>\n",
       "      <td>0.0</td>\n",
       "      <td>0.0</td>\n",
       "      <td>0.0</td>\n",
       "      <td>NaN</td>\n",
       "      <td>...</td>\n",
       "      <td>277.0</td>\n",
       "      <td>0.0</td>\n",
       "      <td>3113.0</td>\n",
       "      <td>96.0</td>\n",
       "      <td>NaN</td>\n",
       "      <td>3253.0</td>\n",
       "      <td>30619.0</td>\n",
       "      <td>30653.0</td>\n",
       "      <td>68.85</td>\n",
       "      <td>77.02</td>\n",
       "    </tr>\n",
       "    <tr>\n",
       "      <th>2018-12-31 20:00:00+01:00</th>\n",
       "      <td>296.0</td>\n",
       "      <td>0.0</td>\n",
       "      <td>0.0</td>\n",
       "      <td>7241.0</td>\n",
       "      <td>2566.0</td>\n",
       "      <td>174.0</td>\n",
       "      <td>0.0</td>\n",
       "      <td>0.0</td>\n",
       "      <td>0.0</td>\n",
       "      <td>NaN</td>\n",
       "      <td>...</td>\n",
       "      <td>280.0</td>\n",
       "      <td>0.0</td>\n",
       "      <td>3288.0</td>\n",
       "      <td>51.0</td>\n",
       "      <td>NaN</td>\n",
       "      <td>3353.0</td>\n",
       "      <td>29932.0</td>\n",
       "      <td>29735.0</td>\n",
       "      <td>68.40</td>\n",
       "      <td>76.16</td>\n",
       "    </tr>\n",
       "    <tr>\n",
       "      <th>2018-12-31 21:00:00+01:00</th>\n",
       "      <td>292.0</td>\n",
       "      <td>0.0</td>\n",
       "      <td>0.0</td>\n",
       "      <td>7025.0</td>\n",
       "      <td>2422.0</td>\n",
       "      <td>168.0</td>\n",
       "      <td>0.0</td>\n",
       "      <td>0.0</td>\n",
       "      <td>0.0</td>\n",
       "      <td>NaN</td>\n",
       "      <td>...</td>\n",
       "      <td>286.0</td>\n",
       "      <td>0.0</td>\n",
       "      <td>3503.0</td>\n",
       "      <td>36.0</td>\n",
       "      <td>NaN</td>\n",
       "      <td>3404.0</td>\n",
       "      <td>27903.0</td>\n",
       "      <td>28071.0</td>\n",
       "      <td>66.88</td>\n",
       "      <td>74.30</td>\n",
       "    </tr>\n",
       "    <tr>\n",
       "      <th>2018-12-31 22:00:00+01:00</th>\n",
       "      <td>293.0</td>\n",
       "      <td>0.0</td>\n",
       "      <td>0.0</td>\n",
       "      <td>6562.0</td>\n",
       "      <td>2293.0</td>\n",
       "      <td>163.0</td>\n",
       "      <td>0.0</td>\n",
       "      <td>0.0</td>\n",
       "      <td>0.0</td>\n",
       "      <td>NaN</td>\n",
       "      <td>...</td>\n",
       "      <td>287.0</td>\n",
       "      <td>0.0</td>\n",
       "      <td>3586.0</td>\n",
       "      <td>29.0</td>\n",
       "      <td>NaN</td>\n",
       "      <td>3273.0</td>\n",
       "      <td>25450.0</td>\n",
       "      <td>25801.0</td>\n",
       "      <td>63.93</td>\n",
       "      <td>69.89</td>\n",
       "    </tr>\n",
       "    <tr>\n",
       "      <th>2018-12-31 23:00:00+01:00</th>\n",
       "      <td>290.0</td>\n",
       "      <td>0.0</td>\n",
       "      <td>0.0</td>\n",
       "      <td>6926.0</td>\n",
       "      <td>2166.0</td>\n",
       "      <td>163.0</td>\n",
       "      <td>0.0</td>\n",
       "      <td>0.0</td>\n",
       "      <td>0.0</td>\n",
       "      <td>NaN</td>\n",
       "      <td>...</td>\n",
       "      <td>287.0</td>\n",
       "      <td>0.0</td>\n",
       "      <td>3651.0</td>\n",
       "      <td>26.0</td>\n",
       "      <td>NaN</td>\n",
       "      <td>3117.0</td>\n",
       "      <td>24424.0</td>\n",
       "      <td>24455.0</td>\n",
       "      <td>64.27</td>\n",
       "      <td>69.88</td>\n",
       "    </tr>\n",
       "  </tbody>\n",
       "</table>\n",
       "<p>5 rows × 28 columns</p>\n",
       "</div>"
      ],
      "text/plain": [
       "                           generation biomass  \\\n",
       "time                                            \n",
       "2018-12-31 19:00:00+01:00               297.0   \n",
       "2018-12-31 20:00:00+01:00               296.0   \n",
       "2018-12-31 21:00:00+01:00               292.0   \n",
       "2018-12-31 22:00:00+01:00               293.0   \n",
       "2018-12-31 23:00:00+01:00               290.0   \n",
       "\n",
       "                           generation fossil brown coal/lignite  \\\n",
       "time                                                              \n",
       "2018-12-31 19:00:00+01:00                                   0.0   \n",
       "2018-12-31 20:00:00+01:00                                   0.0   \n",
       "2018-12-31 21:00:00+01:00                                   0.0   \n",
       "2018-12-31 22:00:00+01:00                                   0.0   \n",
       "2018-12-31 23:00:00+01:00                                   0.0   \n",
       "\n",
       "                           generation fossil coal-derived gas  \\\n",
       "time                                                            \n",
       "2018-12-31 19:00:00+01:00                                 0.0   \n",
       "2018-12-31 20:00:00+01:00                                 0.0   \n",
       "2018-12-31 21:00:00+01:00                                 0.0   \n",
       "2018-12-31 22:00:00+01:00                                 0.0   \n",
       "2018-12-31 23:00:00+01:00                                 0.0   \n",
       "\n",
       "                           generation fossil gas  generation fossil hard coal  \\\n",
       "time                                                                            \n",
       "2018-12-31 19:00:00+01:00                 7634.0                       2628.0   \n",
       "2018-12-31 20:00:00+01:00                 7241.0                       2566.0   \n",
       "2018-12-31 21:00:00+01:00                 7025.0                       2422.0   \n",
       "2018-12-31 22:00:00+01:00                 6562.0                       2293.0   \n",
       "2018-12-31 23:00:00+01:00                 6926.0                       2166.0   \n",
       "\n",
       "                           generation fossil oil  generation fossil oil shale  \\\n",
       "time                                                                            \n",
       "2018-12-31 19:00:00+01:00                  178.0                          0.0   \n",
       "2018-12-31 20:00:00+01:00                  174.0                          0.0   \n",
       "2018-12-31 21:00:00+01:00                  168.0                          0.0   \n",
       "2018-12-31 22:00:00+01:00                  163.0                          0.0   \n",
       "2018-12-31 23:00:00+01:00                  163.0                          0.0   \n",
       "\n",
       "                           generation fossil peat  generation geothermal  \\\n",
       "time                                                                       \n",
       "2018-12-31 19:00:00+01:00                     0.0                    0.0   \n",
       "2018-12-31 20:00:00+01:00                     0.0                    0.0   \n",
       "2018-12-31 21:00:00+01:00                     0.0                    0.0   \n",
       "2018-12-31 22:00:00+01:00                     0.0                    0.0   \n",
       "2018-12-31 23:00:00+01:00                     0.0                    0.0   \n",
       "\n",
       "                           generation hydro pumped storage aggregated  ...  \\\n",
       "time                                                                   ...   \n",
       "2018-12-31 19:00:00+01:00                                         NaN  ...   \n",
       "2018-12-31 20:00:00+01:00                                         NaN  ...   \n",
       "2018-12-31 21:00:00+01:00                                         NaN  ...   \n",
       "2018-12-31 22:00:00+01:00                                         NaN  ...   \n",
       "2018-12-31 23:00:00+01:00                                         NaN  ...   \n",
       "\n",
       "                           generation waste  generation wind offshore  \\\n",
       "time                                                                    \n",
       "2018-12-31 19:00:00+01:00             277.0                       0.0   \n",
       "2018-12-31 20:00:00+01:00             280.0                       0.0   \n",
       "2018-12-31 21:00:00+01:00             286.0                       0.0   \n",
       "2018-12-31 22:00:00+01:00             287.0                       0.0   \n",
       "2018-12-31 23:00:00+01:00             287.0                       0.0   \n",
       "\n",
       "                           generation wind onshore  forecast solar day ahead  \\\n",
       "time                                                                           \n",
       "2018-12-31 19:00:00+01:00                   3113.0                      96.0   \n",
       "2018-12-31 20:00:00+01:00                   3288.0                      51.0   \n",
       "2018-12-31 21:00:00+01:00                   3503.0                      36.0   \n",
       "2018-12-31 22:00:00+01:00                   3586.0                      29.0   \n",
       "2018-12-31 23:00:00+01:00                   3651.0                      26.0   \n",
       "\n",
       "                           forecast wind offshore eday ahead  \\\n",
       "time                                                           \n",
       "2018-12-31 19:00:00+01:00                                NaN   \n",
       "2018-12-31 20:00:00+01:00                                NaN   \n",
       "2018-12-31 21:00:00+01:00                                NaN   \n",
       "2018-12-31 22:00:00+01:00                                NaN   \n",
       "2018-12-31 23:00:00+01:00                                NaN   \n",
       "\n",
       "                           forecast wind onshore day ahead  \\\n",
       "time                                                         \n",
       "2018-12-31 19:00:00+01:00                           3253.0   \n",
       "2018-12-31 20:00:00+01:00                           3353.0   \n",
       "2018-12-31 21:00:00+01:00                           3404.0   \n",
       "2018-12-31 22:00:00+01:00                           3273.0   \n",
       "2018-12-31 23:00:00+01:00                           3117.0   \n",
       "\n",
       "                           total load forecast  total load actual  \\\n",
       "time                                                                \n",
       "2018-12-31 19:00:00+01:00              30619.0            30653.0   \n",
       "2018-12-31 20:00:00+01:00              29932.0            29735.0   \n",
       "2018-12-31 21:00:00+01:00              27903.0            28071.0   \n",
       "2018-12-31 22:00:00+01:00              25450.0            25801.0   \n",
       "2018-12-31 23:00:00+01:00              24424.0            24455.0   \n",
       "\n",
       "                           price day ahead  price actual  \n",
       "time                                                      \n",
       "2018-12-31 19:00:00+01:00            68.85         77.02  \n",
       "2018-12-31 20:00:00+01:00            68.40         76.16  \n",
       "2018-12-31 21:00:00+01:00            66.88         74.30  \n",
       "2018-12-31 22:00:00+01:00            63.93         69.89  \n",
       "2018-12-31 23:00:00+01:00            64.27         69.88  \n",
       "\n",
       "[5 rows x 28 columns]"
      ]
     },
     "execution_count": 9,
     "metadata": {},
     "output_type": "execute_result"
    }
   ],
   "source": [
    "df_energy.tail(5)"
   ]
  },
  {
   "cell_type": "markdown",
   "metadata": {},
   "source": [
    "**Initial Data Cleaning**"
   ]
  },
  {
   "cell_type": "markdown",
   "metadata": {},
   "source": [
    "This preprocesses and cleansthe data in the following order:\n",
    "\n",
    "    1) Sort DateTimeIndex in ascending order (if unsorted)\n",
    "    2) Check no duplicate datetime, otherwise keep only first one\n",
    "    3) Add DateTimeIndex freq if it doesn't exist. This is needed necessary plotting purposes.\n",
    "    4) If regression, convert target column to float.\n",
    "    5) If dataset requires only positive numbers, replace all negative numbers with NaN.\n",
    "    6) Interpolate the missing values with 'linear' as default."
   ]
  },
  {
   "cell_type": "code",
   "execution_count": 10,
   "metadata": {},
   "outputs": [],
   "source": [
    "from dnntime.utils.etl import clean_ts_data"
   ]
  },
  {
   "cell_type": "code",
   "execution_count": 11,
   "metadata": {},
   "outputs": [],
   "source": [
    "freq = 'H'"
   ]
  },
  {
   "cell_type": "code",
   "execution_count": 12,
   "metadata": {},
   "outputs": [
    {
     "name": "stdout",
     "output_type": "stream",
     "text": [
      "    - Sorted DateTimeIndex in asc order (just in case).\n",
      "    - Checked that there are no duplicate times.\n",
      "    - Added freq 'H' to DateTimeIndex.\n",
      "    - Since negative values are unpermitted, all negative values found in dataset are converted to NaN.\n",
      "    - filled any NaN value via linear interpolation.\n"
     ]
    }
   ],
   "source": [
    "dfi_energy = clean_ts_data(df_energy, target, as_freq=freq, allow_neg=False)"
   ]
  },
  {
   "cell_type": "code",
   "execution_count": 13,
   "metadata": {},
   "outputs": [
    {
     "data": {
      "text/html": [
       "<div>\n",
       "<style scoped>\n",
       "    .dataframe tbody tr th:only-of-type {\n",
       "        vertical-align: middle;\n",
       "    }\n",
       "\n",
       "    .dataframe tbody tr th {\n",
       "        vertical-align: top;\n",
       "    }\n",
       "\n",
       "    .dataframe thead th {\n",
       "        text-align: right;\n",
       "    }\n",
       "</style>\n",
       "<table border=\"1\" class=\"dataframe\">\n",
       "  <thead>\n",
       "    <tr style=\"text-align: right;\">\n",
       "      <th></th>\n",
       "      <th>generation biomass</th>\n",
       "      <th>generation fossil brown coal/lignite</th>\n",
       "      <th>generation fossil coal-derived gas</th>\n",
       "      <th>generation fossil gas</th>\n",
       "      <th>generation fossil hard coal</th>\n",
       "      <th>generation fossil oil</th>\n",
       "      <th>generation fossil oil shale</th>\n",
       "      <th>generation fossil peat</th>\n",
       "      <th>generation geothermal</th>\n",
       "      <th>generation hydro pumped storage aggregated</th>\n",
       "      <th>...</th>\n",
       "      <th>generation waste</th>\n",
       "      <th>generation wind offshore</th>\n",
       "      <th>generation wind onshore</th>\n",
       "      <th>forecast solar day ahead</th>\n",
       "      <th>forecast wind offshore eday ahead</th>\n",
       "      <th>forecast wind onshore day ahead</th>\n",
       "      <th>total load forecast</th>\n",
       "      <th>total load actual</th>\n",
       "      <th>price day ahead</th>\n",
       "      <th>price actual</th>\n",
       "    </tr>\n",
       "  </thead>\n",
       "  <tbody>\n",
       "    <tr>\n",
       "      <th>2015-01-01 00:00:00</th>\n",
       "      <td>447.0</td>\n",
       "      <td>329.0</td>\n",
       "      <td>0.0</td>\n",
       "      <td>4844.0</td>\n",
       "      <td>4821.0</td>\n",
       "      <td>162.0</td>\n",
       "      <td>0.0</td>\n",
       "      <td>0.0</td>\n",
       "      <td>0.0</td>\n",
       "      <td>NaN</td>\n",
       "      <td>...</td>\n",
       "      <td>196.0</td>\n",
       "      <td>0.0</td>\n",
       "      <td>6378.0</td>\n",
       "      <td>17.0</td>\n",
       "      <td>NaN</td>\n",
       "      <td>6436.0</td>\n",
       "      <td>26118.0</td>\n",
       "      <td>25385.0</td>\n",
       "      <td>50.10</td>\n",
       "      <td>65.41</td>\n",
       "    </tr>\n",
       "    <tr>\n",
       "      <th>2015-01-01 01:00:00</th>\n",
       "      <td>449.0</td>\n",
       "      <td>328.0</td>\n",
       "      <td>0.0</td>\n",
       "      <td>5196.0</td>\n",
       "      <td>4755.0</td>\n",
       "      <td>158.0</td>\n",
       "      <td>0.0</td>\n",
       "      <td>0.0</td>\n",
       "      <td>0.0</td>\n",
       "      <td>NaN</td>\n",
       "      <td>...</td>\n",
       "      <td>195.0</td>\n",
       "      <td>0.0</td>\n",
       "      <td>5890.0</td>\n",
       "      <td>16.0</td>\n",
       "      <td>NaN</td>\n",
       "      <td>5856.0</td>\n",
       "      <td>24934.0</td>\n",
       "      <td>24382.0</td>\n",
       "      <td>48.10</td>\n",
       "      <td>64.92</td>\n",
       "    </tr>\n",
       "    <tr>\n",
       "      <th>2015-01-01 02:00:00</th>\n",
       "      <td>448.0</td>\n",
       "      <td>323.0</td>\n",
       "      <td>0.0</td>\n",
       "      <td>4857.0</td>\n",
       "      <td>4581.0</td>\n",
       "      <td>157.0</td>\n",
       "      <td>0.0</td>\n",
       "      <td>0.0</td>\n",
       "      <td>0.0</td>\n",
       "      <td>NaN</td>\n",
       "      <td>...</td>\n",
       "      <td>196.0</td>\n",
       "      <td>0.0</td>\n",
       "      <td>5461.0</td>\n",
       "      <td>8.0</td>\n",
       "      <td>NaN</td>\n",
       "      <td>5454.0</td>\n",
       "      <td>23515.0</td>\n",
       "      <td>22734.0</td>\n",
       "      <td>47.33</td>\n",
       "      <td>64.48</td>\n",
       "    </tr>\n",
       "    <tr>\n",
       "      <th>2015-01-01 03:00:00</th>\n",
       "      <td>438.0</td>\n",
       "      <td>254.0</td>\n",
       "      <td>0.0</td>\n",
       "      <td>4314.0</td>\n",
       "      <td>4131.0</td>\n",
       "      <td>160.0</td>\n",
       "      <td>0.0</td>\n",
       "      <td>0.0</td>\n",
       "      <td>0.0</td>\n",
       "      <td>NaN</td>\n",
       "      <td>...</td>\n",
       "      <td>191.0</td>\n",
       "      <td>0.0</td>\n",
       "      <td>5238.0</td>\n",
       "      <td>2.0</td>\n",
       "      <td>NaN</td>\n",
       "      <td>5151.0</td>\n",
       "      <td>22642.0</td>\n",
       "      <td>21286.0</td>\n",
       "      <td>42.27</td>\n",
       "      <td>59.32</td>\n",
       "    </tr>\n",
       "    <tr>\n",
       "      <th>2015-01-01 04:00:00</th>\n",
       "      <td>428.0</td>\n",
       "      <td>187.0</td>\n",
       "      <td>0.0</td>\n",
       "      <td>4130.0</td>\n",
       "      <td>3840.0</td>\n",
       "      <td>156.0</td>\n",
       "      <td>0.0</td>\n",
       "      <td>0.0</td>\n",
       "      <td>0.0</td>\n",
       "      <td>NaN</td>\n",
       "      <td>...</td>\n",
       "      <td>189.0</td>\n",
       "      <td>0.0</td>\n",
       "      <td>4935.0</td>\n",
       "      <td>9.0</td>\n",
       "      <td>NaN</td>\n",
       "      <td>4861.0</td>\n",
       "      <td>21785.0</td>\n",
       "      <td>20264.0</td>\n",
       "      <td>38.41</td>\n",
       "      <td>56.04</td>\n",
       "    </tr>\n",
       "  </tbody>\n",
       "</table>\n",
       "<p>5 rows × 28 columns</p>\n",
       "</div>"
      ],
      "text/plain": [
       "                     generation biomass  generation fossil brown coal/lignite  \\\n",
       "2015-01-01 00:00:00               447.0                                 329.0   \n",
       "2015-01-01 01:00:00               449.0                                 328.0   \n",
       "2015-01-01 02:00:00               448.0                                 323.0   \n",
       "2015-01-01 03:00:00               438.0                                 254.0   \n",
       "2015-01-01 04:00:00               428.0                                 187.0   \n",
       "\n",
       "                     generation fossil coal-derived gas  \\\n",
       "2015-01-01 00:00:00                                 0.0   \n",
       "2015-01-01 01:00:00                                 0.0   \n",
       "2015-01-01 02:00:00                                 0.0   \n",
       "2015-01-01 03:00:00                                 0.0   \n",
       "2015-01-01 04:00:00                                 0.0   \n",
       "\n",
       "                     generation fossil gas  generation fossil hard coal  \\\n",
       "2015-01-01 00:00:00                 4844.0                       4821.0   \n",
       "2015-01-01 01:00:00                 5196.0                       4755.0   \n",
       "2015-01-01 02:00:00                 4857.0                       4581.0   \n",
       "2015-01-01 03:00:00                 4314.0                       4131.0   \n",
       "2015-01-01 04:00:00                 4130.0                       3840.0   \n",
       "\n",
       "                     generation fossil oil  generation fossil oil shale  \\\n",
       "2015-01-01 00:00:00                  162.0                          0.0   \n",
       "2015-01-01 01:00:00                  158.0                          0.0   \n",
       "2015-01-01 02:00:00                  157.0                          0.0   \n",
       "2015-01-01 03:00:00                  160.0                          0.0   \n",
       "2015-01-01 04:00:00                  156.0                          0.0   \n",
       "\n",
       "                     generation fossil peat  generation geothermal  \\\n",
       "2015-01-01 00:00:00                     0.0                    0.0   \n",
       "2015-01-01 01:00:00                     0.0                    0.0   \n",
       "2015-01-01 02:00:00                     0.0                    0.0   \n",
       "2015-01-01 03:00:00                     0.0                    0.0   \n",
       "2015-01-01 04:00:00                     0.0                    0.0   \n",
       "\n",
       "                     generation hydro pumped storage aggregated  ...  \\\n",
       "2015-01-01 00:00:00                                         NaN  ...   \n",
       "2015-01-01 01:00:00                                         NaN  ...   \n",
       "2015-01-01 02:00:00                                         NaN  ...   \n",
       "2015-01-01 03:00:00                                         NaN  ...   \n",
       "2015-01-01 04:00:00                                         NaN  ...   \n",
       "\n",
       "                     generation waste  generation wind offshore  \\\n",
       "2015-01-01 00:00:00             196.0                       0.0   \n",
       "2015-01-01 01:00:00             195.0                       0.0   \n",
       "2015-01-01 02:00:00             196.0                       0.0   \n",
       "2015-01-01 03:00:00             191.0                       0.0   \n",
       "2015-01-01 04:00:00             189.0                       0.0   \n",
       "\n",
       "                     generation wind onshore  forecast solar day ahead  \\\n",
       "2015-01-01 00:00:00                   6378.0                      17.0   \n",
       "2015-01-01 01:00:00                   5890.0                      16.0   \n",
       "2015-01-01 02:00:00                   5461.0                       8.0   \n",
       "2015-01-01 03:00:00                   5238.0                       2.0   \n",
       "2015-01-01 04:00:00                   4935.0                       9.0   \n",
       "\n",
       "                     forecast wind offshore eday ahead  \\\n",
       "2015-01-01 00:00:00                                NaN   \n",
       "2015-01-01 01:00:00                                NaN   \n",
       "2015-01-01 02:00:00                                NaN   \n",
       "2015-01-01 03:00:00                                NaN   \n",
       "2015-01-01 04:00:00                                NaN   \n",
       "\n",
       "                     forecast wind onshore day ahead  total load forecast  \\\n",
       "2015-01-01 00:00:00                           6436.0              26118.0   \n",
       "2015-01-01 01:00:00                           5856.0              24934.0   \n",
       "2015-01-01 02:00:00                           5454.0              23515.0   \n",
       "2015-01-01 03:00:00                           5151.0              22642.0   \n",
       "2015-01-01 04:00:00                           4861.0              21785.0   \n",
       "\n",
       "                     total load actual  price day ahead  price actual  \n",
       "2015-01-01 00:00:00            25385.0            50.10         65.41  \n",
       "2015-01-01 01:00:00            24382.0            48.10         64.92  \n",
       "2015-01-01 02:00:00            22734.0            47.33         64.48  \n",
       "2015-01-01 03:00:00            21286.0            42.27         59.32  \n",
       "2015-01-01 04:00:00            20264.0            38.41         56.04  \n",
       "\n",
       "[5 rows x 28 columns]"
      ]
     },
     "execution_count": 13,
     "metadata": {},
     "output_type": "execute_result"
    }
   ],
   "source": [
    "# newly cleaned and reindexed dataset\n",
    "dfi_energy.head()"
   ]
  },
  {
   "cell_type": "markdown",
   "metadata": {},
   "source": [
    "#### **Create df_energy univarate time-series**"
   ]
  },
  {
   "cell_type": "code",
   "execution_count": 14,
   "metadata": {},
   "outputs": [],
   "source": [
    "dfi = dfi_energy[[target]]"
   ]
  },
  {
   "cell_type": "markdown",
   "metadata": {},
   "source": [
    "In DataFrame format:"
   ]
  },
  {
   "cell_type": "code",
   "execution_count": 15,
   "metadata": {
    "scrolled": true
   },
   "outputs": [
    {
     "data": {
      "text/html": [
       "<div>\n",
       "<style scoped>\n",
       "    .dataframe tbody tr th:only-of-type {\n",
       "        vertical-align: middle;\n",
       "    }\n",
       "\n",
       "    .dataframe tbody tr th {\n",
       "        vertical-align: top;\n",
       "    }\n",
       "\n",
       "    .dataframe thead th {\n",
       "        text-align: right;\n",
       "    }\n",
       "</style>\n",
       "<table border=\"1\" class=\"dataframe\">\n",
       "  <thead>\n",
       "    <tr style=\"text-align: right;\">\n",
       "      <th></th>\n",
       "      <th>total load actual</th>\n",
       "    </tr>\n",
       "  </thead>\n",
       "  <tbody>\n",
       "    <tr>\n",
       "      <th>2015-01-01 00:00:00</th>\n",
       "      <td>25385.0</td>\n",
       "    </tr>\n",
       "    <tr>\n",
       "      <th>2015-01-01 01:00:00</th>\n",
       "      <td>24382.0</td>\n",
       "    </tr>\n",
       "    <tr>\n",
       "      <th>2015-01-01 02:00:00</th>\n",
       "      <td>22734.0</td>\n",
       "    </tr>\n",
       "    <tr>\n",
       "      <th>2015-01-01 03:00:00</th>\n",
       "      <td>21286.0</td>\n",
       "    </tr>\n",
       "    <tr>\n",
       "      <th>2015-01-01 04:00:00</th>\n",
       "      <td>20264.0</td>\n",
       "    </tr>\n",
       "  </tbody>\n",
       "</table>\n",
       "</div>"
      ],
      "text/plain": [
       "                     total load actual\n",
       "2015-01-01 00:00:00            25385.0\n",
       "2015-01-01 01:00:00            24382.0\n",
       "2015-01-01 02:00:00            22734.0\n",
       "2015-01-01 03:00:00            21286.0\n",
       "2015-01-01 04:00:00            20264.0"
      ]
     },
     "execution_count": 15,
     "metadata": {},
     "output_type": "execute_result"
    }
   ],
   "source": [
    "dfi.head()"
   ]
  },
  {
   "cell_type": "markdown",
   "metadata": {},
   "source": [
    "In Series format:"
   ]
  },
  {
   "cell_type": "code",
   "execution_count": 16,
   "metadata": {},
   "outputs": [
    {
     "data": {
      "text/plain": [
       "2015-01-01 00:00:00    25385.0\n",
       "2015-01-01 01:00:00    24382.0\n",
       "2015-01-01 02:00:00    22734.0\n",
       "2015-01-01 03:00:00    21286.0\n",
       "2015-01-01 04:00:00    20264.0\n",
       "Freq: H, Name: total load actual, dtype: float64"
      ]
     },
     "execution_count": 16,
     "metadata": {},
     "output_type": "execute_result"
    }
   ],
   "source": [
    "dfi[target].head()"
   ]
  },
  {
   "cell_type": "markdown",
   "metadata": {},
   "source": [
    "### **STEP 3) EDA I (General)**"
   ]
  },
  {
   "cell_type": "markdown",
   "metadata": {},
   "source": [
    "The *first* round of exploratory data analyses (EDA) does the following:\n",
    "\n",
    "*   Visualize the **\"total load actual\"** univarate time-series without any transformations.\n",
    "*   Zoom into some parts of the time-series.\n",
    "*   Bucket into histograms."
   ]
  },
  {
   "cell_type": "code",
   "execution_count": 17,
   "metadata": {},
   "outputs": [],
   "source": [
    " from dnntime.utils.eda import time_series_plot, \\\n",
    "                               top_correlation_to_name, test_stationarity"
   ]
  },
  {
   "cell_type": "code",
   "execution_count": 18,
   "metadata": {},
   "outputs": [],
   "source": [
    "# Define plot labels\n",
    "# title = \"Total Electrity Demand in Spain Time-Series\"\n",
    "title = \"PJME Regional Power Demand Time-Series\"\n",
    "x_label = f'Datetime'\n",
    "y_label = f\"Total Demand (MW)\""
   ]
  },
  {
   "cell_type": "code",
   "execution_count": 19,
   "metadata": {},
   "outputs": [],
   "source": [
    "from dnntime.utils.eda import ts_plot"
   ]
  },
  {
   "cell_type": "code",
   "execution_count": 20,
   "metadata": {},
   "outputs": [],
   "source": [
    "# ts_plot(dfi, ts_column, target, \n",
    "#         title=title, \n",
    "#         y_label=y_label\n",
    "#        )"
   ]
  },
  {
   "cell_type": "code",
   "execution_count": 21,
   "metadata": {},
   "outputs": [
    {
     "data": {
      "text/plain": [
       "pandas.core.indexes.datetimes.DatetimeIndex"
      ]
     },
     "execution_count": 21,
     "metadata": {},
     "output_type": "execute_result"
    }
   ],
   "source": [
    "type(dfi.index)"
   ]
  },
  {
   "cell_type": "code",
   "execution_count": 22,
   "metadata": {},
   "outputs": [
    {
     "data": {
      "text/plain": [
       "True"
      ]
     },
     "execution_count": 22,
     "metadata": {},
     "output_type": "execute_result"
    }
   ],
   "source": [
    "isinstance(dfi.index, pd.core.indexes.datetimes.DatetimeIndex) "
   ]
  },
  {
   "cell_type": "code",
   "execution_count": 23,
   "metadata": {},
   "outputs": [
    {
     "data": {
      "text/plain": [
       "Int64Index([2015, 2015, 2015, 2015, 2015, 2015, 2015, 2015, 2015, 2015,\n",
       "            ...\n",
       "            2018, 2018, 2018, 2018, 2018, 2018, 2018, 2018, 2018, 2018],\n",
       "           dtype='int64', length=35064)"
      ]
     },
     "execution_count": 23,
     "metadata": {},
     "output_type": "execute_result"
    }
   ],
   "source": [
    "dfi.index.year"
   ]
  },
  {
   "cell_type": "markdown",
   "metadata": {},
   "source": [
    "**Split into sub time-series**"
   ]
  },
  {
   "cell_type": "code",
   "execution_count": 24,
   "metadata": {},
   "outputs": [],
   "source": [
    "from dnntime.utils.eda import ts_sub_plot"
   ]
  },
  {
   "cell_type": "code",
   "execution_count": 25,
   "metadata": {},
   "outputs": [],
   "source": [
    "# ts_sub_plot(dfi, ts_column, target, \n",
    "#             title=title, \n",
    "#             y_label=y_label,\n",
    "#             split='y',\n",
    "#             line_width=0.5\n",
    "#            )"
   ]
  },
  {
   "cell_type": "markdown",
   "metadata": {},
   "source": [
    "### **STEP 4) EDA II (Time-Series)**"
   ]
  },
  {
   "cell_type": "markdown",
   "metadata": {},
   "source": [
    "The *second* round of exploratory data analyses (EDA) is more time-series specific, including:\n",
    "\n",
    "*   Check stationarity to dataset using augmented Dicker-Fuller test\n",
    "*   Check for trends and seasonsility using ETS Decomposition"
   ]
  },
  {
   "cell_type": "code",
   "execution_count": 26,
   "metadata": {},
   "outputs": [],
   "source": [
    "from statsmodels.tsa.stattools import adfuller"
   ]
  },
  {
   "cell_type": "code",
   "execution_count": 27,
   "metadata": {},
   "outputs": [],
   "source": [
    "from dnntime.utils.eda import time_series_plot, top_correlation_to_name, \\\n",
    "                              test_stationarity"
   ]
  },
  {
   "cell_type": "markdown",
   "metadata": {},
   "source": [
    "**Stationary Test (Dickey-Fuller)**"
   ]
  },
  {
   "cell_type": "code",
   "execution_count": 28,
   "metadata": {},
   "outputs": [],
   "source": [
    "from dnntime.utils.eda import test_stationarity"
   ]
  },
  {
   "cell_type": "code",
   "execution_count": 29,
   "metadata": {},
   "outputs": [
    {
     "name": "stdout",
     "output_type": "stream",
     "text": [
      "modifying time series dataframe into an array to test\n",
      " this series is stationary\n"
     ]
    },
    {
     "data": {
      "text/plain": [
       "Test Statistic                   -66.818137\n",
       "p-value                            0.000000\n",
       "#Lags Used                         2.000000\n",
       "Number of Observations Used    35061.000000\n",
       "Critical Value (1%)               -3.430537\n",
       "Critical Value (5%)               -2.861622\n",
       "Critical Value (10%)              -2.566814\n",
       "dtype: float64"
      ]
     },
     "execution_count": 29,
     "metadata": {},
     "output_type": "execute_result"
    }
   ],
   "source": [
    "test_stationarity(dfi)"
   ]
  },
  {
   "cell_type": "code",
   "execution_count": 30,
   "metadata": {
    "scrolled": true
   },
   "outputs": [
    {
     "name": "stdout",
     "output_type": "stream",
     "text": [
      " this series is stationary\n"
     ]
    },
    {
     "data": {
      "text/plain": [
       "Test Statistic                   -66.818137\n",
       "p-value                            0.000000\n",
       "#Lags Used                         2.000000\n",
       "Number of Observations Used    35061.000000\n",
       "Critical Value (1%)               -3.430537\n",
       "Critical Value (5%)               -2.861622\n",
       "Critical Value (10%)              -2.566814\n",
       "dtype: float64"
      ]
     },
     "execution_count": 30,
     "metadata": {},
     "output_type": "execute_result"
    }
   ],
   "source": [
    "test_stationarity(dfi[target])"
   ]
  },
  {
   "cell_type": "code",
   "execution_count": 31,
   "metadata": {},
   "outputs": [],
   "source": [
    "def adf_test(series,title='', alpha=0.05):  # alpha denotes significance level\n",
    "    \"\"\"\n",
    "    Pass in a time series and an optional title, returns an ADF report\n",
    "    \"\"\"\n",
    "    print(f'Augmented Dickey-Fuller Test: {title}')\n",
    "    result = adfuller(series.dropna(),autolag='AIC') # .dropna() handles differenced data\n",
    "    \n",
    "    labels = ['ADF test statistic','p-value','# lags used','# observations']\n",
    "    out = pd.Series(result[0:4],index=labels)\n",
    "\n",
    "    for key,val in result[4].items():\n",
    "        out[f'critical value ({key})']=val\n",
    "        \n",
    "    print(out.to_string())          # .to_string() removes the line \"dtype: float64\"\n",
    "    \n",
    "    if result[1] <= alpha:\n",
    "        print(\"Strong evidence against the null hypothesis\")\n",
    "        print(\"Reject the null hypothesis\")\n",
    "        print(\"Data has no unit root and is stationary\")\n",
    "    else:\n",
    "        print(\"Weak evidence against the null hypothesis\")\n",
    "        print(\"Fail to reject the null hypothesis\")\n",
    "        print(\"Data has a unit root and is non-stationary\")"
   ]
  },
  {
   "cell_type": "markdown",
   "metadata": {},
   "source": [
    "Test stationarity for **df_energy_total**:"
   ]
  },
  {
   "cell_type": "code",
   "execution_count": 32,
   "metadata": {},
   "outputs": [],
   "source": [
    "# adf_test(dfi[target])"
   ]
  },
  {
   "cell_type": "markdown",
   "metadata": {},
   "source": [
    "**ETS Decomposition**"
   ]
  },
  {
   "cell_type": "code",
   "execution_count": 33,
   "metadata": {},
   "outputs": [],
   "source": [
    "from dnntime.utils.eda import ets_decomposition_plot"
   ]
  },
  {
   "cell_type": "code",
   "execution_count": 34,
   "metadata": {},
   "outputs": [
    {
     "data": {
      "image/png": "[encoded data removed]",
      "text/plain": [
       "<Figure size 432x288 with 4 Axes>"
      ]
     },
     "metadata": {},
     "output_type": "display_data"
    }
   ],
   "source": [
    "ets = ets_decomposition_plot(dfi, ts_column, target, title, y_label);"
   ]
  },
  {
   "cell_type": "code",
   "execution_count": 35,
   "metadata": {
    "scrolled": true
   },
   "outputs": [],
   "source": [
    "# ets_decomposition_plot(dfi, ts_column, target, title, y_label,\n",
    "#                        prophet=True);"
   ]
  },
  {
   "cell_type": "code",
   "execution_count": 36,
   "metadata": {},
   "outputs": [],
   "source": [
    "# ets = ets_decomposition_plot(dfi, ts_column, target, title, y_label, \n",
    "#                              plotly=True);"
   ]
  },
  {
   "cell_type": "markdown",
   "metadata": {},
   "source": [
    "**Deseasonalizing**\n",
    "\n",
    "Types of seasonality:\n",
    "*  Time of day\n",
    "*  Daily\n",
    "*  Weekly\n",
    "*  Monthly\n",
    "*  Yearly\n",
    "\n",
    "Removing seasonality methods:\n",
    "*  Differencing\n",
    "*  Power/Log Transformation"
   ]
  },
  {
   "cell_type": "code",
   "execution_count": 37,
   "metadata": {},
   "outputs": [
    {
     "data": {
      "text/plain": [
       "pandas.core.series.Series"
      ]
     },
     "execution_count": 37,
     "metadata": {},
     "output_type": "execute_result"
    }
   ],
   "source": [
    "pd.plotting.register_matplotlib_converters()\n",
    "type(ets.trend)"
   ]
  },
  {
   "cell_type": "code",
   "execution_count": 38,
   "metadata": {},
   "outputs": [],
   "source": [
    "# ets.trend.plot();"
   ]
  },
  {
   "cell_type": "code",
   "execution_count": 39,
   "metadata": {},
   "outputs": [],
   "source": [
    "# ets.trend.diff().plot();"
   ]
  },
  {
   "cell_type": "markdown",
   "metadata": {},
   "source": [
    "**ACF and PACF**"
   ]
  },
  {
   "cell_type": "code",
   "execution_count": 40,
   "metadata": {},
   "outputs": [],
   "source": [
    "from dnntime.utils.eda import acf_pacf_plot"
   ]
  },
  {
   "cell_type": "code",
   "execution_count": 41,
   "metadata": {},
   "outputs": [],
   "source": [
    "title = \"Total Electricity Demand\"\n",
    "lags_7 = 24*7  # 7-days lag\n",
    "lags_30 = 24*30  # 30-days lag\n",
    "lags_90 = 24*90  # 90-days lag"
   ]
  },
  {
   "cell_type": "code",
   "execution_count": 42,
   "metadata": {},
   "outputs": [],
   "source": [
    "# acf_pacf_plot(dfi, target, title, lags=[lags_7, lags_30])"
   ]
  },
  {
   "cell_type": "markdown",
   "metadata": {},
   "source": [
    "**Expotential Smoothing (Holt-Winters)**"
   ]
  },
  {
   "cell_type": "code",
   "execution_count": 43,
   "metadata": {},
   "outputs": [
    {
     "data": {
      "text/plain": [
       "'Box-Cox'"
      ]
     },
     "execution_count": 43,
     "metadata": {},
     "output_type": "execute_result"
    }
   ],
   "source": [
    "'box-cox'.title()"
   ]
  },
  {
   "cell_type": "markdown",
   "metadata": {},
   "source": [
    "### **STEP 5) Preprocessing II (Transformations)**"
   ]
  },
  {
   "cell_type": "markdown",
   "metadata": {},
   "source": [
    "Four typical transformation steps:\n",
    "\n",
    "    1) Box-Cox Power Transform (or log)\n",
    "    2) Standarize and normalize around mean 0\n",
    "    3) Deseasonalize\n",
    "    4) Detrend until stationary\n",
    "\n",
    "Followed by:\n",
    "\n",
    "    1) train-test split\n",
    "    2) to_supervised\n",
    "    3) transform to mini-batches"
   ]
  },
  {
   "cell_type": "markdown",
   "metadata": {},
   "source": [
    "**1-2) Log/Power Transform and Standardize**"
   ]
  },
  {
   "cell_type": "markdown",
   "metadata": {},
   "source": [
    "Options:\n",
    "*    Log: 'log'\n",
    "*    Power: 'box-cox' (position values only), 'yeo-johnson' (positive and negaitve values)"
   ]
  },
  {
   "cell_type": "code",
   "execution_count": 44,
   "metadata": {},
   "outputs": [],
   "source": [
    "from dnntime.utils.etl import log_power_transform"
   ]
  },
  {
   "cell_type": "code",
   "execution_count": 45,
   "metadata": {},
   "outputs": [],
   "source": [
    "# Performs log or power transform and then normalize in one function\n",
    "dfi_trans1, _ = log_power_transform(dfi, target, method='box-cox', standardize=True)"
   ]
  },
  {
   "cell_type": "code",
   "execution_count": 46,
   "metadata": {},
   "outputs": [
    {
     "data": {
      "text/html": [
       "<div>\n",
       "<style scoped>\n",
       "    .dataframe tbody tr th:only-of-type {\n",
       "        vertical-align: middle;\n",
       "    }\n",
       "\n",
       "    .dataframe tbody tr th {\n",
       "        vertical-align: top;\n",
       "    }\n",
       "\n",
       "    .dataframe thead th {\n",
       "        text-align: right;\n",
       "    }\n",
       "</style>\n",
       "<table border=\"1\" class=\"dataframe\">\n",
       "  <thead>\n",
       "    <tr style=\"text-align: right;\">\n",
       "      <th></th>\n",
       "      <th>total load actual</th>\n",
       "    </tr>\n",
       "  </thead>\n",
       "  <tbody>\n",
       "    <tr>\n",
       "      <th>2015-01-01 00:00:00</th>\n",
       "      <td>25385.0</td>\n",
       "    </tr>\n",
       "    <tr>\n",
       "      <th>2015-01-01 01:00:00</th>\n",
       "      <td>24382.0</td>\n",
       "    </tr>\n",
       "    <tr>\n",
       "      <th>2015-01-01 02:00:00</th>\n",
       "      <td>22734.0</td>\n",
       "    </tr>\n",
       "    <tr>\n",
       "      <th>2015-01-01 03:00:00</th>\n",
       "      <td>21286.0</td>\n",
       "    </tr>\n",
       "    <tr>\n",
       "      <th>2015-01-01 04:00:00</th>\n",
       "      <td>20264.0</td>\n",
       "    </tr>\n",
       "  </tbody>\n",
       "</table>\n",
       "</div>"
      ],
      "text/plain": [
       "                     total load actual\n",
       "2015-01-01 00:00:00            25385.0\n",
       "2015-01-01 01:00:00            24382.0\n",
       "2015-01-01 02:00:00            22734.0\n",
       "2015-01-01 03:00:00            21286.0\n",
       "2015-01-01 04:00:00            20264.0"
      ]
     },
     "execution_count": 46,
     "metadata": {},
     "output_type": "execute_result"
    }
   ],
   "source": [
    "dfi.head()"
   ]
  },
  {
   "cell_type": "code",
   "execution_count": 47,
   "metadata": {},
   "outputs": [
    {
     "data": {
      "text/html": [
       "<div>\n",
       "<style scoped>\n",
       "    .dataframe tbody tr th:only-of-type {\n",
       "        vertical-align: middle;\n",
       "    }\n",
       "\n",
       "    .dataframe tbody tr th {\n",
       "        vertical-align: top;\n",
       "    }\n",
       "\n",
       "    .dataframe thead th {\n",
       "        text-align: right;\n",
       "    }\n",
       "</style>\n",
       "<table border=\"1\" class=\"dataframe\">\n",
       "  <thead>\n",
       "    <tr style=\"text-align: right;\">\n",
       "      <th></th>\n",
       "      <th>total load actual</th>\n",
       "    </tr>\n",
       "  </thead>\n",
       "  <tbody>\n",
       "    <tr>\n",
       "      <th>2015-01-01 00:00:00</th>\n",
       "      <td>-0.708702</td>\n",
       "    </tr>\n",
       "    <tr>\n",
       "      <th>2015-01-01 01:00:00</th>\n",
       "      <td>-0.938863</td>\n",
       "    </tr>\n",
       "    <tr>\n",
       "      <th>2015-01-01 02:00:00</th>\n",
       "      <td>-1.324659</td>\n",
       "    </tr>\n",
       "    <tr>\n",
       "      <th>2015-01-01 03:00:00</th>\n",
       "      <td>-1.672110</td>\n",
       "    </tr>\n",
       "    <tr>\n",
       "      <th>2015-01-01 04:00:00</th>\n",
       "      <td>-1.922532</td>\n",
       "    </tr>\n",
       "    <tr>\n",
       "      <th>...</th>\n",
       "      <td>...</td>\n",
       "    </tr>\n",
       "    <tr>\n",
       "      <th>2018-12-31 19:00:00</th>\n",
       "      <td>0.449938</td>\n",
       "    </tr>\n",
       "    <tr>\n",
       "      <th>2018-12-31 20:00:00</th>\n",
       "      <td>0.253586</td>\n",
       "    </tr>\n",
       "    <tr>\n",
       "      <th>2018-12-31 21:00:00</th>\n",
       "      <td>-0.108044</td>\n",
       "    </tr>\n",
       "    <tr>\n",
       "      <th>2018-12-31 22:00:00</th>\n",
       "      <td>-0.614214</td>\n",
       "    </tr>\n",
       "    <tr>\n",
       "      <th>2018-12-31 23:00:00</th>\n",
       "      <td>-0.921997</td>\n",
       "    </tr>\n",
       "  </tbody>\n",
       "</table>\n",
       "<p>35064 rows × 1 columns</p>\n",
       "</div>"
      ],
      "text/plain": [
       "                     total load actual\n",
       "2015-01-01 00:00:00          -0.708702\n",
       "2015-01-01 01:00:00          -0.938863\n",
       "2015-01-01 02:00:00          -1.324659\n",
       "2015-01-01 03:00:00          -1.672110\n",
       "2015-01-01 04:00:00          -1.922532\n",
       "...                                ...\n",
       "2018-12-31 19:00:00           0.449938\n",
       "2018-12-31 20:00:00           0.253586\n",
       "2018-12-31 21:00:00          -0.108044\n",
       "2018-12-31 22:00:00          -0.614214\n",
       "2018-12-31 23:00:00          -0.921997\n",
       "\n",
       "[35064 rows x 1 columns]"
      ]
     },
     "execution_count": 47,
     "metadata": {},
     "output_type": "execute_result"
    }
   ],
   "source": [
    "dfi_trans1"
   ]
  },
  {
   "cell_type": "markdown",
   "metadata": {},
   "source": [
    "**2) Deseasonalize and/or Detrend**\n",
    "\n",
    "Manual customized differencing coming soon..."
   ]
  },
  {
   "cell_type": "code",
   "execution_count": 48,
   "metadata": {},
   "outputs": [],
   "source": [
    "from dnntime.utils.etl import decompose"
   ]
  },
  {
   "cell_type": "code",
   "execution_count": 49,
   "metadata": {},
   "outputs": [
    {
     "name": "stderr",
     "output_type": "stream",
     "text": [
      "INFO:numexpr.utils:NumExpr defaulting to 8 threads.\n"
     ]
    },
    {
     "data": {
      "text/html": [
       "<div>\n",
       "<style scoped>\n",
       "    .dataframe tbody tr th:only-of-type {\n",
       "        vertical-align: middle;\n",
       "    }\n",
       "\n",
       "    .dataframe tbody tr th {\n",
       "        vertical-align: top;\n",
       "    }\n",
       "\n",
       "    .dataframe thead th {\n",
       "        text-align: right;\n",
       "    }\n",
       "</style>\n",
       "<table border=\"1\" class=\"dataframe\">\n",
       "  <thead>\n",
       "    <tr style=\"text-align: right;\">\n",
       "      <th></th>\n",
       "      <th>total load actual</th>\n",
       "    </tr>\n",
       "  </thead>\n",
       "  <tbody>\n",
       "    <tr>\n",
       "      <th>2015-01-01 12:00:00</th>\n",
       "      <td>-1.755847</td>\n",
       "    </tr>\n",
       "    <tr>\n",
       "      <th>2015-01-01 13:00:00</th>\n",
       "      <td>-1.531988</td>\n",
       "    </tr>\n",
       "    <tr>\n",
       "      <th>2015-01-01 14:00:00</th>\n",
       "      <td>-1.370088</td>\n",
       "    </tr>\n",
       "    <tr>\n",
       "      <th>2015-01-01 15:00:00</th>\n",
       "      <td>-1.524664</td>\n",
       "    </tr>\n",
       "    <tr>\n",
       "      <th>2015-01-01 16:00:00</th>\n",
       "      <td>-1.578919</td>\n",
       "    </tr>\n",
       "  </tbody>\n",
       "</table>\n",
       "</div>"
      ],
      "text/plain": [
       "                     total load actual\n",
       "2015-01-01 12:00:00          -1.755847\n",
       "2015-01-01 13:00:00          -1.531988\n",
       "2015-01-01 14:00:00          -1.370088\n",
       "2015-01-01 15:00:00          -1.524664\n",
       "2015-01-01 16:00:00          -1.578919"
      ]
     },
     "execution_count": 49,
     "metadata": {},
     "output_type": "execute_result"
    }
   ],
   "source": [
    "dfi_trans2, seasonality = decompose(dfi_trans1, target, type='deseasonalize', model='additive')\n",
    "dfi_trans2.head()"
   ]
  },
  {
   "cell_type": "markdown",
   "metadata": {},
   "source": [
    "**3) Normalize and Standardize** (Optional)"
   ]
  },
  {
   "cell_type": "code",
   "execution_count": 50,
   "metadata": {},
   "outputs": [],
   "source": [
    "from dnntime.utils.etl import normalize"
   ]
  },
  {
   "cell_type": "code",
   "execution_count": 51,
   "metadata": {},
   "outputs": [
    {
     "data": {
      "text/html": [
       "<div>\n",
       "<style scoped>\n",
       "    .dataframe tbody tr th:only-of-type {\n",
       "        vertical-align: middle;\n",
       "    }\n",
       "\n",
       "    .dataframe tbody tr th {\n",
       "        vertical-align: top;\n",
       "    }\n",
       "\n",
       "    .dataframe thead th {\n",
       "        text-align: right;\n",
       "    }\n",
       "</style>\n",
       "<table border=\"1\" class=\"dataframe\">\n",
       "  <thead>\n",
       "    <tr style=\"text-align: right;\">\n",
       "      <th></th>\n",
       "      <th>total load actual</th>\n",
       "    </tr>\n",
       "  </thead>\n",
       "  <tbody>\n",
       "    <tr>\n",
       "      <th>2015-01-01 12:00:00</th>\n",
       "      <td>0.216964</td>\n",
       "    </tr>\n",
       "    <tr>\n",
       "      <th>2015-01-01 13:00:00</th>\n",
       "      <td>0.262850</td>\n",
       "    </tr>\n",
       "    <tr>\n",
       "      <th>2015-01-01 14:00:00</th>\n",
       "      <td>0.296036</td>\n",
       "    </tr>\n",
       "    <tr>\n",
       "      <th>2015-01-01 15:00:00</th>\n",
       "      <td>0.264352</td>\n",
       "    </tr>\n",
       "    <tr>\n",
       "      <th>2015-01-01 16:00:00</th>\n",
       "      <td>0.253231</td>\n",
       "    </tr>\n",
       "  </tbody>\n",
       "</table>\n",
       "</div>"
      ],
      "text/plain": [
       "                     total load actual\n",
       "2015-01-01 12:00:00           0.216964\n",
       "2015-01-01 13:00:00           0.262850\n",
       "2015-01-01 14:00:00           0.296036\n",
       "2015-01-01 15:00:00           0.264352\n",
       "2015-01-01 16:00:00           0.253231"
      ]
     },
     "execution_count": 51,
     "metadata": {},
     "output_type": "execute_result"
    }
   ],
   "source": [
    "dfi_trans3, scaler = normalize(dfi_trans2, target)\n",
    "dfi_trans3.head()"
   ]
  },
  {
   "cell_type": "code",
   "execution_count": 52,
   "metadata": {},
   "outputs": [
    {
     "data": {
      "text/plain": [
       "(total load actual    0.0\n",
       " dtype: float64,\n",
       " total load actual    1.0\n",
       " dtype: float64)"
      ]
     },
     "execution_count": 52,
     "metadata": {},
     "output_type": "execute_result"
    }
   ],
   "source": [
    "dfi_trans3.min(), dfi_trans3.max()"
   ]
  },
  {
   "cell_type": "code",
   "execution_count": 53,
   "metadata": {},
   "outputs": [
    {
     "data": {
      "text/plain": [
       "(total load actual   -2.814324\n",
       " dtype: float64,\n",
       " total load actual    2.064253\n",
       " dtype: float64)"
      ]
     },
     "execution_count": 53,
     "metadata": {},
     "output_type": "execute_result"
    }
   ],
   "source": [
    "dfi_trans2.min(), dfi_trans2.max()"
   ]
  },
  {
   "cell_type": "markdown",
   "metadata": {},
   "source": [
    "**4) Train test split** (including converting to supervised)"
   ]
  },
  {
   "cell_type": "markdown",
   "metadata": {},
   "source": [
    "Select n_input, n_output:\n",
    "\n",
    "**n_output** needs to be specified by business design.\n",
    "\n",
    "**n_input** can be hyparameter tuned to minimize errors n_output values."
   ]
  },
  {
   "cell_type": "markdown",
   "metadata": {},
   "source": [
    "In this example, this is **univariate** time-series measuring enenergy demand on an hourly basis. It is a **multi-step** forecasting of one day ahead, or 24 timesteps with an hour interval each. The model will retrieve 2-weeks of data to make each one-day forecast. The **test set** will be the last month of this dataset and the **training set** will be everything before."
   ]
  },
  {
   "cell_type": "code",
   "execution_count": 54,
   "metadata": {},
   "outputs": [],
   "source": [
    "from dnntime.utils.classes import timesteps"
   ]
  },
  {
   "cell_type": "code",
   "execution_count": 55,
   "metadata": {},
   "outputs": [],
   "source": [
    "#create train, test data\n",
    "ts = timesteps(freq) # 'H' freq, so each timestep t is 1 hr interval\n",
    "n_input = ts.BIWK     # let's input the two weeks (24*14 timesteps)\n",
    "n_output = ts.DAY     # let's forecast the next day (24 timesteps)\n",
    "# n_output = 1\n",
    "n_val = ts.BIWK       # validation dataset size\n",
    "n_test = ts.MONTH     # test dataset size\n",
    "\n",
    "# Hyperparameters\n",
    "n_features = 1  # number of feature(s)\n",
    "n_units = 128   # number of units per layer\n",
    "d_rate = 0.15   # dropout rate\n",
    "\n",
    "n_batch = 512  # batch size\n",
    "n_epoch = 2    # number of epochs"
   ]
  },
  {
   "cell_type": "code",
   "execution_count": 56,
   "metadata": {},
   "outputs": [],
   "source": [
    "# data = dfi_trans2[target]\n",
    "data = dfi_trans2[target]['2018']"
   ]
  },
  {
   "cell_type": "code",
   "execution_count": 57,
   "metadata": {},
   "outputs": [],
   "source": [
    "from dnntime.utils.etl import split_data"
   ]
  },
  {
   "cell_type": "code",
   "execution_count": 58,
   "metadata": {},
   "outputs": [
    {
     "data": {
      "text/plain": [
       "(8748,)"
      ]
     },
     "execution_count": 58,
     "metadata": {},
     "output_type": "execute_result"
    }
   ],
   "source": [
    "data.shape"
   ]
  },
  {
   "cell_type": "code",
   "execution_count": 59,
   "metadata": {},
   "outputs": [],
   "source": [
    "data = data.to_frame()"
   ]
  },
  {
   "cell_type": "code",
   "execution_count": 60,
   "metadata": {},
   "outputs": [
    {
     "data": {
      "text/plain": [
       "(720, 336, 336, 24)"
      ]
     },
     "execution_count": 60,
     "metadata": {},
     "output_type": "execute_result"
    }
   ],
   "source": [
    "n_test, n_val, n_input, n_output"
   ]
  },
  {
   "cell_type": "code",
   "execution_count": 61,
   "metadata": {},
   "outputs": [],
   "source": [
    "orig, train, val, test = split_data(data, \n",
    "                                    n_test=n_test,  # size of test set\n",
    "                                    n_val=n_val,  # size of validation set\n",
    "                                    n_input=n_input,   # input timestep seq\n",
    "                                    n_output=n_output, # output timestep seq\n",
    "                                    g_min=0,     # min gap ratio\n",
    "                                    g_max=0.01)  # max gap ratio"
   ]
  },
  {
   "cell_type": "code",
   "execution_count": 62,
   "metadata": {},
   "outputs": [],
   "source": [
    "X, y, t = orig  # original data tuple in supervised format\n",
    "X_train, y_train, t_train = train\n",
    "X_val, y_val, t_val = val\n",
    "X_test, y_test, t_test = test"
   ]
  },
  {
   "cell_type": "code",
   "execution_count": 63,
   "metadata": {},
   "outputs": [
    {
     "name": "stdout",
     "output_type": "stream",
     "text": [
      "data.shape =  (8748, 1)\n",
      "X.shape =  (8389, 336, 1)\n",
      "y.shape =  (8389, 24)\n",
      "t.shape =  (8389,)\n",
      "X_train.shape =  (7329, 336, 1)\n",
      "y_train.shape =  (7329, 24)\n",
      "t_train.shape =  (7329,)\n",
      "X_val.shape =  (336, 336, 1)\n",
      "y_val.shape =  (336, 24)\n",
      "t_val.shape =  (336,)\n",
      "X_test.shape =  (720, 336, 1)\n",
      "y_test.shape =  (720, 24)\n",
      "t_test.shape =  (720,)\n",
      "\n",
      "Split %:\n",
      "Train: 87.36%, Val: 4.01%, Test: 8.58%, Gap: 0.05%\n"
     ]
    }
   ],
   "source": [
    "print(f\"data.shape = \", data.shape)\n",
    "print(\"X.shape = \", X.shape)\n",
    "print(\"y.shape = \", y.shape)\n",
    "print(\"t.shape = \", t.shape)\n",
    "print(\"X_train.shape = \", X_train.shape)\n",
    "print(\"y_train.shape = \", y_train.shape)\n",
    "print(\"t_train.shape = \", t_train.shape)\n",
    "print(\"X_val.shape = \", X_val.shape)\n",
    "print(\"y_val.shape = \", y_val.shape)\n",
    "print(\"t_val.shape = \", t_val.shape)\n",
    "print(\"X_test.shape = \", X_test.shape)\n",
    "print(\"y_test.shape = \", y_test.shape)\n",
    "print(\"t_test.shape = \", t_test.shape)\n",
    "\n",
    "train_prct = round(len(X_train)/len(X)*100, 2)\n",
    "val_prct = round(len(X_val)/len(X)*100, 2)\n",
    "test_prct = round(len(X_test)/len(X)*100, 2)\n",
    "gap_prct = round(100-train_prct-val_prct-test_prct, 2)\n",
    "print(\"\\nSplit %:\")\n",
    "print(f\"Train: {train_prct}%, Val: {val_prct}%, Test: {test_prct}%, Gap: {gap_prct}%\")"
   ]
  },
  {
   "cell_type": "markdown",
   "metadata": {},
   "source": [
    "Integration with KFold CV with \"gaps\" coming soon..."
   ]
  },
  {
   "cell_type": "code",
   "execution_count": 64,
   "metadata": {},
   "outputs": [],
   "source": [
    "# from random import randint\n",
    "# from tscv import GapKFold\n",
    "\n",
    "# gap2 = randint(0, int(0.001*len(X_train)))\n",
    "# gap2\n",
    "\n",
    "# n_split=5\n",
    "\n",
    "# tscv = GapKFold(n_splits=n_split, gap_before=gap2, gap_after=gap2)\n",
    "\n",
    "# from sklearn.model_selection import cross_val_score\n",
    "\n",
    "# X_train.shape\n",
    "# X_train2 = X_train.reshape(X_train.shape[0], X_train.shape[1])\n",
    "# X_train2.shape\n",
    "\n",
    "# for train, val in tscv.split(X_train2):\n",
    "#     print(train.shape)\n",
    "#     print(val.shape)\n",
    "# for train, val in tscv.split(X_train, y_train, t_train):\n",
    "#     print(train)\n",
    "#     print(val.shape)\n",
    "\n",
    "# cv = GapLeavePOut(p=1, gap_before=1, gap_after=2)\n",
    "\n",
    "# train, test = cv.split(data)"
   ]
  },
  {
   "cell_type": "markdown",
   "metadata": {},
   "source": [
    "### **STEP 6) Model Search (Statistical)**"
   ]
  },
  {
   "cell_type": "code",
   "execution_count": null,
   "metadata": {},
   "outputs": [],
   "source": []
  },
  {
   "cell_type": "markdown",
   "metadata": {},
   "source": [
    "### **STEP 7) Model Search (NN)**"
   ]
  },
  {
   "cell_type": "markdown",
   "metadata": {},
   "source": [
    "Running following deep learning models:\n",
    "\n",
    "    1) RNN\n",
    "    2) LSTM\n",
    "    3) GRU\n",
    "    4) ConvLSTM\n",
    "    5) ConvGRU (coming soon)\n",
    "    6) TDNN (coming soon)\n",
    "    6) TCN (coming soon)\n",
    "    7) LSTM Autoencoder (coming later)\n",
    "    8) Amazon's DeepAR (coming later)\n",
    "    9) Microsoft’s ForecastTCN (coming later)\n",
    "    10) Multi-scale Hierarchical LSTMs (coming later)\n",
    "    11) Customize your own (coming later)"
   ]
  },
  {
   "cell_type": "markdown",
   "metadata": {},
   "source": [
    "#### 7.0) Import the necessary environments:"
   ]
  },
  {
   "cell_type": "code",
   "execution_count": 65,
   "metadata": {},
   "outputs": [],
   "source": [
    "import os\n",
    "os.environ[\"CUDA_DEVICE_ORDER\"] ='0'"
   ]
  },
  {
   "cell_type": "code",
   "execution_count": 66,
   "metadata": {},
   "outputs": [
    {
     "data": {
      "text/plain": [
       "'2.1.0'"
      ]
     },
     "execution_count": 66,
     "metadata": {},
     "output_type": "execute_result"
    }
   ],
   "source": [
    "import tensorflow as tf\n",
    "tf.__version__"
   ]
  },
  {
   "cell_type": "code",
   "execution_count": 67,
   "metadata": {},
   "outputs": [
    {
     "name": "stdout",
     "output_type": "stream",
     "text": [
      "WARNING:tensorflow:From <ipython-input-67-d5131e6f7738>:4: is_gpu_available (from tensorflow.python.framework.test_util) is deprecated and will be removed in a future version.\n",
      "Instructions for updating:\n",
      "Use `tf.config.list_physical_devices('GPU')` instead.\n"
     ]
    },
    {
     "name": "stderr",
     "output_type": "stream",
     "text": [
      "WARNING:tensorflow:From <ipython-input-67-d5131e6f7738>:4: is_gpu_available (from tensorflow.python.framework.test_util) is deprecated and will be removed in a future version.\n",
      "Instructions for updating:\n",
      "Use `tf.config.list_physical_devices('GPU')` instead.\n"
     ]
    },
    {
     "data": {
      "text/plain": [
       "False"
      ]
     },
     "execution_count": 67,
     "metadata": {},
     "output_type": "execute_result"
    }
   ],
   "source": [
    "# Check is GPU is available\n",
    "tf.test.is_gpu_available(\n",
    "    cuda_only=False,\n",
    "    min_cuda_compute_capability=None\n",
    ")"
   ]
  },
  {
   "cell_type": "code",
   "execution_count": 68,
   "metadata": {},
   "outputs": [
    {
     "name": "stdout",
     "output_type": "stream",
     "text": [
      "Close interactive session\n"
     ]
    }
   ],
   "source": [
    "session = tf.compat.v1.Session()\n",
    "\n",
    "if 'session' in locals() and session is not None:\n",
    "    print('Close interactive session')\n",
    "    session.close()"
   ]
  },
  {
   "cell_type": "code",
   "execution_count": null,
   "metadata": {},
   "outputs": [],
   "source": []
  },
  {
   "cell_type": "code",
   "execution_count": 69,
   "metadata": {},
   "outputs": [],
   "source": [
    "# from tensorflow.keras import backend as K\n",
    "# from tensorflow.keras.models import Sequential\n",
    "# from tensorflow.keras.layers import SimpleRNN, LSTM, GRU, Conv1D, Conv2D, ConvLSTM2D, \\\n",
    "#                                     Dense, Flatten, Dropout, MaxPooling1D, MaxPooling2D, \\\n",
    "#                                     RepeatVector, TimeDistributed\n",
    "# If using tensorflow-gpu\n",
    "# from keras.layers import CuDNNLSTM, CuDNNGRU\n",
    "# from sklearn.metrics import mean_squared_error as mse, mean_absolute_error as mae, \\\n",
    "#                             mean_squared_log_error as msle, r2_score as r2"
   ]
  },
  {
   "cell_type": "code",
   "execution_count": 70,
   "metadata": {},
   "outputs": [],
   "source": [
    "from dnntime.models import build_rnn_model, build_lstm_model, \\\n",
    "                           build_gru_model, build_convlstm_model\n",
    "from collections import defaultdict"
   ]
  },
  {
   "cell_type": "markdown",
   "metadata": {},
   "source": [
    "**ml_dict**: a nested dict that stores all of the models and their results"
   ]
  },
  {
   "cell_type": "code",
   "execution_count": 71,
   "metadata": {},
   "outputs": [],
   "source": [
    "mldict = lambda: defaultdict(mldict)\n",
    "ml_dict = mldict()"
   ]
  },
  {
   "cell_type": "code",
   "execution_count": 72,
   "metadata": {},
   "outputs": [
    {
     "data": {
      "text/plain": [
       "dict_keys([])"
      ]
     },
     "execution_count": 72,
     "metadata": {},
     "output_type": "execute_result"
    }
   ],
   "source": [
    "ml_dict.keys()"
   ]
  },
  {
   "cell_type": "markdown",
   "metadata": {},
   "source": [
    "#### **7.1) RNN**"
   ]
  },
  {
   "cell_type": "markdown",
   "metadata": {},
   "source": [
    "Run a 3-layer stacked RNN model with metric evaluation:"
   ]
  },
  {
   "cell_type": "code",
   "execution_count": 73,
   "metadata": {},
   "outputs": [
    {
     "data": {
      "text/plain": [
       "((7329, 336, 1), (7329, 24), (336, 336, 1), (336, 24), 336, 24)"
      ]
     },
     "execution_count": 73,
     "metadata": {},
     "output_type": "execute_result"
    }
   ],
   "source": [
    "X_train.shape, y_train.shape, X_val.shape, y_val.shape, n_input, n_output"
   ]
  },
  {
   "cell_type": "code",
   "execution_count": 74,
   "metadata": {},
   "outputs": [
    {
     "name": "stdout",
     "output_type": "stream",
     "text": [
      "Stacked RNN model summary:\n",
      "Model: \"sequential\"\n",
      "_________________________________________________________________\n",
      "Layer (type)                 Output Shape              Param #   \n",
      "=================================================================\n",
      "simple_rnn (SimpleRNN)       (None, 336, 128)          16640     \n",
      "_________________________________________________________________\n",
      "dropout (Dropout)            (None, 336, 128)          0         \n",
      "_________________________________________________________________\n",
      "simple_rnn_1 (SimpleRNN)     (None, 336, 128)          32896     \n",
      "_________________________________________________________________\n",
      "dropout_1 (Dropout)          (None, 336, 128)          0         \n",
      "_________________________________________________________________\n",
      "simple_rnn_2 (SimpleRNN)     (None, 128)               32896     \n",
      "_________________________________________________________________\n",
      "dropout_2 (Dropout)          (None, 128)               0         \n",
      "_________________________________________________________________\n",
      "dense (Dense)                (None, 24)                3096      \n",
      "=================================================================\n",
      "Total params: 85,528\n",
      "Trainable params: 85,528\n",
      "Non-trainable params: 0\n",
      "_________________________________________________________________\n",
      "Train on 7329 samples\n",
      "Epoch 1/2\n",
      "7329/7329 [==============================] - 30s 4ms/sample - loss: 0.5745\n",
      "Epoch 2/2\n",
      "7329/7329 [==============================] - 29s 4ms/sample - loss: 0.4068\n",
      "\n",
      "-----------------------------------------------------------------\n",
      "RNN SUMMARY:\n",
      "-----------------------------------------------------------------\n",
      "MAE Score: 0.3355\n",
      "MAPE Score: 88.9709\n",
      "RMSE Score: 0.4362\n",
      "Normalized RMSE Score: 66.01%\n",
      "Total Training Time: 0.98 min\n"
     ]
    }
   ],
   "source": [
    "model, pred, rmse, norm_rmse = build_rnn_model(X_train, y_train, X_val, y_val,\n",
    "                                               n_input, n_output,\n",
    "                                               n_units=n_units,\n",
    "                                               d_rate=d_rate,\n",
    "                                               n_epoch=n_epoch,\n",
    "                                               n_batch=n_batch)"
   ]
  },
  {
   "cell_type": "code",
   "execution_count": 75,
   "metadata": {},
   "outputs": [],
   "source": [
    "name = 'RNN'\n",
    "ml_dict[name]['model'] = model\n",
    "ml_dict[name]['forecast'] = pred\n",
    "ml_dict[name]['rmse'] = rmse\n",
    "ml_dict[name]['norm_rmse'] = norm_rmse"
   ]
  },
  {
   "cell_type": "markdown",
   "metadata": {},
   "source": [
    "#### **7.2) LSTM**"
   ]
  },
  {
   "cell_type": "markdown",
   "metadata": {},
   "source": [
    "Run a 3-layer stacked RNN model with metric evaluation:"
   ]
  },
  {
   "cell_type": "code",
   "execution_count": null,
   "metadata": {},
   "outputs": [
    {
     "name": "stdout",
     "output_type": "stream",
     "text": [
      "Stacked LSTM model summary:\n",
      "Model: \"sequential_1\"\n",
      "_________________________________________________________________\n",
      "Layer (type)                 Output Shape              Param #   \n",
      "=================================================================\n",
      "lstm (LSTM)                  (None, 336, 128)          66560     \n",
      "_________________________________________________________________\n",
      "dropout_3 (Dropout)          (None, 336, 128)          0         \n",
      "_________________________________________________________________\n",
      "lstm_1 (LSTM)                (None, 336, 128)          131584    \n",
      "_________________________________________________________________\n",
      "dropout_4 (Dropout)          (None, 336, 128)          0         \n",
      "_________________________________________________________________\n",
      "lstm_2 (LSTM)                (None, 128)               131584    \n",
      "_________________________________________________________________\n",
      "dropout_5 (Dropout)          (None, 128)               0         \n",
      "_________________________________________________________________\n",
      "dense_1 (Dense)              (None, 24)                3096      \n",
      "=================================================================\n",
      "Total params: 332,824\n",
      "Trainable params: 332,824\n",
      "Non-trainable params: 0\n",
      "_________________________________________________________________\n",
      "Train on 7329 samples\n",
      "Epoch 1/2\n",
      "7329/7329 [==============================] - 85s 12ms/sample - loss: 0.3842\n",
      "Epoch 2/2\n",
      "5120/7329 [===================>..........] - ETA: 23s - loss: 0.3318"
     ]
    }
   ],
   "source": [
    "model, pred, rmse, norm_rmse = build_lstm_model(X_train, y_train, X_val, y_val,\n",
    "                                                n_input, n_output,\n",
    "                                                n_units=n_units,\n",
    "                                                d_rate=d_rate,\n",
    "                                                n_epoch=n_epoch,\n",
    "                                                n_batch=n_batch)"
   ]
  },
  {
   "cell_type": "code",
   "execution_count": null,
   "metadata": {},
   "outputs": [],
   "source": [
    "name = 'LSTM'\n",
    "ml_dict[name]['model'] = model\n",
    "ml_dict[name]['forecast'] = pred\n",
    "ml_dict[name]['rmse'] = rmse\n",
    "ml_dict[name]['norm_rmse'] = norm_rmse"
   ]
  },
  {
   "cell_type": "markdown",
   "metadata": {},
   "source": [
    "#### **7.3) GRU**"
   ]
  },
  {
   "cell_type": "markdown",
   "metadata": {},
   "source": [
    "Run a 3-layer stacked GRU model with metric evaluation:"
   ]
  },
  {
   "cell_type": "code",
   "execution_count": null,
   "metadata": {},
   "outputs": [],
   "source": [
    "model, pred, rmse, norm_rmse = build_gru_model(X_train, y_train, X_val, y_val,\n",
    "                                               n_input, n_output,\n",
    "                                               n_units=n_units,\n",
    "                                               d_rate=d_rate,\n",
    "                                               n_epoch=n_epoch,\n",
    "                                               n_batch=n_batch)"
   ]
  },
  {
   "cell_type": "code",
   "execution_count": null,
   "metadata": {},
   "outputs": [],
   "source": [
    "name = 'GRU'\n",
    "ml_dict[name]['model'] = model\n",
    "ml_dict[name]['forecast'] = pred\n",
    "ml_dict[name]['rmse'] = rmse\n",
    "ml_dict[name]['norm_rmse'] = norm_rmse"
   ]
  },
  {
   "cell_type": "markdown",
   "metadata": {},
   "source": [
    "#### **7.4) ConvLSTM**"
   ]
  },
  {
   "cell_type": "markdown",
   "metadata": {},
   "source": [
    "Run a 3-layer stacked LSTM model with metric evaluation:"
   ]
  },
  {
   "cell_type": "code",
   "execution_count": null,
   "metadata": {},
   "outputs": [],
   "source": [
    "model, pred, rmse, norm_rmse = build_convlstm_model(X_train, y_train, X_val, y_val,\n",
    "                                                    l_subseq=n_output, # length of subsequence\n",
    "                                                    n_col=n_output,    # length of \"image\" col\n",
    "                                                    n_units=n_units,\n",
    "                                                    d_rate=d_rate,\n",
    "                                                    n_epoch=n_epoch,\n",
    "                                                    n_batch=n_batch)"
   ]
  },
  {
   "cell_type": "code",
   "execution_count": null,
   "metadata": {},
   "outputs": [],
   "source": [
    "name = 'ConvLSTM'\n",
    "ml_dict[name]['model'] = model\n",
    "ml_dict[name]['forecast'] = pred\n",
    "ml_dict[name]['rmse'] = rmse\n",
    "ml_dict[name]['norm_rmse'] = norm_rmse"
   ]
  },
  {
   "cell_type": "markdown",
   "metadata": {},
   "source": [
    "#### **7.x) Sort ml_dict based on RMSE and select top model**"
   ]
  },
  {
   "cell_type": "code",
   "execution_count": null,
   "metadata": {},
   "outputs": [],
   "source": [
    "from dnntime.utils.classes import colorful\n",
    "import operator\n",
    "\n",
    "score_type = 'rmse'"
   ]
  },
  {
   "cell_type": "code",
   "execution_count": null,
   "metadata": {},
   "outputs": [],
   "source": [
    "f1_stats = {}\n",
    "for key, val in ml_dict.items():\n",
    "    f1_stats[key] = ml_dict[key][score_type]\n",
    "best_model_name = min(f1_stats.items(), key=operator.itemgetter(1))[0]"
   ]
  },
  {
   "cell_type": "code",
   "execution_count": null,
   "metadata": {},
   "outputs": [],
   "source": [
    "print(colorful.BOLD + '\\nBest Model is:' + colorful.END)\n",
    "print('    %s' % best_model_name)\n",
    "best_model = ml_dict[best_model_name]['model']\n",
    "# print('    Best Model Forecasts: %s' %ml_dict[best_model_name]['forecast'])\n",
    "print('    Best Model Score: %0.2f' % ml_dict[best_model_name][score_type])"
   ]
  },
  {
   "cell_type": "markdown",
   "metadata": {},
   "source": [
    "### **STEP 8) Best Model Train, Test, and Forecast**"
   ]
  },
  {
   "cell_type": "markdown",
   "metadata": {},
   "source": [
    "Retrain model with training data, but this training data is combined PREVIOUS training data + PREVIOUS validation data. Test data will be untouched."
   ]
  },
  {
   "cell_type": "code",
   "execution_count": null,
   "metadata": {},
   "outputs": [],
   "source": [
    "orig, train, test = split_data(data, \n",
    "                               n_test=n_test,  # size of test set\n",
    "                               n_val=0,  # 0 signifies no val set\n",
    "                               n_input=n_input,   # input timestep seq\n",
    "                               n_output=n_output, # output timestep seq\n",
    "                               g_min=0,     # min gap ratio\n",
    "                               g_max=0.01)  # max gap ratio"
   ]
  },
  {
   "cell_type": "code",
   "execution_count": null,
   "metadata": {},
   "outputs": [],
   "source": [
    "X, y, t = orig  # original data tuple in supervised format\n",
    "X_train, y_train, t_train = train\n",
    "X_test, y_test, t_test = test"
   ]
  },
  {
   "cell_type": "code",
   "execution_count": null,
   "metadata": {},
   "outputs": [],
   "source": [
    "print(f\"data.shape = \", data.shape)\n",
    "print(\"X.shape = \", X.shape)\n",
    "print(\"y.shape = \", y.shape)\n",
    "print(\"t.shape = \", t.shape)\n",
    "print(\"X_train.shape = \", X_train.shape)\n",
    "print(\"y_train.shape = \", y_train.shape)\n",
    "print(\"t_train.shape = \", t_train.shape)\n",
    "print(\"X_test.shape = \", X_test.shape)\n",
    "print(\"y_test.shape = \", y_test.shape)\n",
    "print(\"t_test.shape = \", t_test.shape)\n",
    "\n",
    "train_prct = round(len(X_train)/len(X)*100, 2)\n",
    "test_prct = round(len(X_test)/len(X)*100, 2)\n",
    "gap_prct = round(100-train_prct-val_prct-test_prct, 2)\n",
    "print(\"\\nSplit %:\")\n",
    "print(f\"Train: {train_prct}%, Test: {test_prct}%, Gap: {gap_prct}%\")"
   ]
  },
  {
   "cell_type": "markdown",
   "metadata": {},
   "source": [
    "Fit the best model."
   ]
  },
  {
   "cell_type": "code",
   "execution_count": null,
   "metadata": {},
   "outputs": [],
   "source": [
    "best_model.fit(X_train, y_train, epochs=n_epoch, batch_size=n_batch)"
   ]
  },
  {
   "cell_type": "markdown",
   "metadata": {},
   "source": [
    "Predict the best model."
   ]
  },
  {
   "cell_type": "code",
   "execution_count": null,
   "metadata": {},
   "outputs": [],
   "source": [
    "X_pred = best_model.predict(X_test)"
   ]
  },
  {
   "cell_type": "markdown",
   "metadata": {},
   "source": [
    "Find and print out the errors."
   ]
  },
  {
   "cell_type": "code",
   "execution_count": null,
   "metadata": {},
   "outputs": [],
   "source": [
    "from dnntime.utils import print_dynamic_rmse, print_mae, print_mape"
   ]
  },
  {
   "cell_type": "code",
   "execution_count": null,
   "metadata": {},
   "outputs": [],
   "source": [
    "rmse, norm_rmse = print_dynamic_rmse(y_test, X_pred, y_train)\n",
    "mae = print_mae(y_test, X_pred)\n",
    "mape = print_mape(y_test, X_pred)"
   ]
  },
  {
   "cell_type": "code",
   "execution_count": null,
   "metadata": {},
   "outputs": [],
   "source": [
    "print(\"-----------------------------------------------------------------\")\n",
    "print(\"BEST MODEL SUMMARY:\")\n",
    "print(\"-----------------------------------------------------------------\")\n",
    "print(f\"MAE Score: {round(mae, 4)}\")\n",
    "print(f\"MAPE Score: {round(mape, 4)}\")\n",
    "print(f\"RMSE Score: {round(rmse, 4)}\")\n",
    "print(f\"Normalized RMSE Score: {round(norm_rmse, 2)*100}%\")"
   ]
  },
  {
   "cell_type": "markdown",
   "metadata": {},
   "source": [
    "Convert prediction (X_pred) and actual (y_test) back to original."
   ]
  },
  {
   "cell_type": "code",
   "execution_count": null,
   "metadata": {},
   "outputs": [],
   "source": [
    "y_test.shape, t_test.shape"
   ]
  },
  {
   "cell_type": "code",
   "execution_count": null,
   "metadata": {},
   "outputs": [],
   "source": [
    "header = [\"t\"]\n",
    "for i in range(1, n_output):\n",
    "    header.append(f\"t + {i}\")\n",
    "\n",
    "header"
   ]
  },
  {
   "cell_type": "code",
   "execution_count": null,
   "metadata": {},
   "outputs": [],
   "source": [
    "df_act = pd.DataFrame(y_test, index=t_test, columns=header)\n",
    "df_act"
   ]
  },
  {
   "cell_type": "code",
   "execution_count": null,
   "metadata": {},
   "outputs": [],
   "source": [
    "df_pred = pd.DataFrame(X_pred, index=t_test, columns=header)\n",
    "df_pred"
   ]
  },
  {
   "cell_type": "code",
   "execution_count": null,
   "metadata": {},
   "outputs": [],
   "source": [
    "seasonality['2018']"
   ]
  },
  {
   "cell_type": "code",
   "execution_count": null,
   "metadata": {},
   "outputs": [],
   "source": [
    "data"
   ]
  },
  {
   "cell_type": "code",
   "execution_count": null,
   "metadata": {},
   "outputs": [],
   "source": [
    "_, _, test_season = split_data(seasonality['2018'], \n",
    "                               n_test=n_test,  # size of test set\n",
    "                               n_val=0,  # 0 signifies no val set\n",
    "                               n_input=n_input,   # input timestep seq\n",
    "                               n_output=n_output, # output timestep seq\n",
    "                               g_min=0,     # min gap ratio\n",
    "                               g_max=0.01)  # max gap ratio\n",
    "\n",
    "X_season, y_season, t_season = test_season"
   ]
  },
  {
   "cell_type": "code",
   "execution_count": null,
   "metadata": {},
   "outputs": [],
   "source": [
    "df_season = pd.DataFrame(y_season, index=t_season, columns=header)\n",
    "df_season"
   ]
  },
  {
   "cell_type": "markdown",
   "metadata": {},
   "source": [
    "Adding back seasonality:"
   ]
  },
  {
   "cell_type": "code",
   "execution_count": null,
   "metadata": {},
   "outputs": [],
   "source": [
    "df_pred += df_season\n",
    "df_act += df_season"
   ]
  },
  {
   "cell_type": "code",
   "execution_count": null,
   "metadata": {},
   "outputs": [],
   "source": [
    "df_act"
   ]
  },
  {
   "cell_type": "markdown",
   "metadata": {},
   "source": [
    "Perform inverse Box-Cox:"
   ]
  },
  {
   "cell_type": "code",
   "execution_count": null,
   "metadata": {},
   "outputs": [],
   "source": [
    "from scipy.special import boxcox, inv_boxcox"
   ]
  },
  {
   "cell_type": "code",
   "execution_count": null,
   "metadata": {},
   "outputs": [],
   "source": []
  },
  {
   "cell_type": "code",
   "execution_count": null,
   "metadata": {},
   "outputs": [],
   "source": []
  },
  {
   "cell_type": "code",
   "execution_count": null,
   "metadata": {},
   "outputs": [],
   "source": []
  },
  {
   "cell_type": "code",
   "execution_count": null,
   "metadata": {},
   "outputs": [],
   "source": []
  },
  {
   "cell_type": "markdown",
   "metadata": {},
   "source": [
    "Ultimately, the goal is for ALL of the following to be able to run with a single function **DNN_TimeSeries**."
   ]
  }
 ],
 "metadata": {
  "kernelspec": {
   "display_name": "test",
   "language": "python",
   "name": "test"
  },
  "language_info": {
   "codemirror_mode": {
    "name": "ipython",
    "version": 3
   },
   "file_extension": ".py",
   "mimetype": "text/x-python",
   "name": "python",
   "nbconvert_exporter": "python",
   "pygments_lexer": "ipython3",
   "version": "3.6.10"
  }
 },
 "nbformat": 4,
 "nbformat_minor": 1
}
